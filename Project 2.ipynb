{
 "cells": [
  {
   "cell_type": "markdown",
   "metadata": {},
   "source": [
    "# Cryptography app"
   ]
  },
  {
   "cell_type": "code",
   "execution_count": 12,
   "metadata": {},
   "outputs": [
    {
     "name": "stdout",
     "output_type": "stream",
     "text": [
      "Requirement already satisfied: onetimepad in f:\\anaconda\\lib\\site-packages (1.4)\n"
     ]
    }
   ],
   "source": [
    "\n",
    "#!pip install onetimepad"
   ]
  },
  {
   "cell_type": "code",
   "execution_count": 22,
   "metadata": {},
   "outputs": [],
   "source": [
    "import onetimepad\n",
    "from tkinter import *\n",
    "#import tkinter\n",
    "\n",
    "root=Tk()\n",
    "root.title(\"Chryptography App\")\n",
    "\n",
    "def encryptMessage():\n",
    "    a=var.get()\n",
    "    ct=onetimepad.encrypt(a,\"Random\")\n",
    "    print(\"working\",ct)\n",
    "    \n",
    "    e2.delete(0,END)\n",
    "    e2.insert(END,ct)\n",
    "    \n",
    "    \n",
    "def decryptMessage():\n",
    "     a=var2.get()\n",
    "     ct=onetimepad.decrypt(a,\"Random\")\n",
    "     print(\"working\",ct)\n",
    "    \n",
    "     e4.delete(0,END)\n",
    "     e4.insert(END,ct)\n",
    "    \n",
    "    \n",
    "l1=Label(root,text=\"Plain Text\")\n",
    "l1.grid(row=0,column=0)\n",
    "\n",
    "    \n",
    "l3=Label(root,text=\"Encrypted Text\")\n",
    "l3.grid(row=0,column=2)\n",
    "\n",
    "var=StringVar()\n",
    "e1=Entry(root,textvariable=var)\n",
    "e1.grid(row=0,column=1)\n",
    "\n",
    "var2=StringVar()\n",
    "e3=Entry(root,textvariable=var2)\n",
    "e3.grid(row=0,column=3)\n",
    "\n",
    "l2=Label(root,text=\"Encrypted Text\")\n",
    "l2.grid(row=1,column=0)\n",
    "\n",
    "l4=Label(root,text=\"Plain Text\")\n",
    "l4.grid(row=1,column=2)\n",
    "\n",
    "\n",
    "e4=Entry(root)\n",
    "e4.grid(row=1,column=3)\n",
    "\n",
    "e2=Entry(root)\n",
    "e2.grid(row=1,column=1)\n",
    "\n",
    "b1=Button(root,text=\"Encryption\",bg=\"skyblue\",fg=\"black\" ,command=encryptMessage)\n",
    "b1.grid(row=2,column=1)\n",
    "\n",
    "b2=Button(root,text=\"Decryption\",bg=\"skyblue\",fg=\"black\" ,command=decryptMessage)\n",
    "b2.grid(row=2,column=3)\n",
    "\n",
    "root.mainloop()"
   ]
  },
  {
   "cell_type": "code",
   "execution_count": null,
   "metadata": {},
   "outputs": [],
   "source": []
  },
  {
   "cell_type": "markdown",
   "metadata": {},
   "source": [
    "# Guess The movie"
   ]
  },
  {
   "cell_type": "code",
   "execution_count": null,
   "metadata": {},
   "outputs": [],
   "source": [
    "#firebase connectivity\n",
    "import firebase_admin\n",
    "from firebase_admin import credentials\n",
    "\n",
    "cred= credentials.Certificate(\"letsupgrade.json\")\n",
    "firebase_admin.initialize_app(cred)\n",
    "print(\"working\")"
   ]
  },
  {
   "cell_type": "code",
   "execution_count": null,
   "metadata": {},
   "outputs": [],
   "source": [
    "from firebase_admin import firestore"
   ]
  },
  {
   "cell_type": "code",
   "execution_count": null,
   "metadata": {},
   "outputs": [],
   "source": [
    "db=firestore.client()\n",
    "doc_ref=db.collection(\"movies\").document(\"Bollywood\")\n",
    "\n",
    "data={\"Name\":[\"war\",\"kgf\",\"3-idiots\",\"family-man\",\"dangal\"],\n",
    "     \"collection\":[400,500,200,100,600]}\n",
    "doc_ref.set(data)\n",
    "print(\"done\")"
   ]
  },
  {
   "cell_type": "markdown",
   "metadata": {},
   "source": [
    "# Retrive the data from firebase"
   ]
  },
  {
   "cell_type": "code",
   "execution_count": null,
   "metadata": {},
   "outputs": [],
   "source": [
    "db=firestore.client()\n",
    "docs=db.collection(\"movies\").stream()\n",
    "for d in docs:\n",
    "    #print(d.to_dict())\n",
    "    database=d.to_dic()"
   ]
  },
  {
   "cell_type": "code",
   "execution_count": null,
   "metadata": {},
   "outputs": [],
   "source": [
    "database[\"Name\"]"
   ]
  },
  {
   "cell_type": "markdown",
   "metadata": {},
   "source": [
    "# Guess the movie name"
   ]
  },
  {
   "cell_type": "code",
   "execution_count": null,
   "metadata": {},
   "outputs": [],
   "source": [
    "import random\n",
    "movie=database[\"Name\"]\n",
    "player=input(\"write your name:\")\n",
    "print(\"Guess the character:\")\n",
    "print(\"you have 10 chance to get the movie:\")\n",
    "print(\"Best of luck\",player)\n",
    "\n",
    "count=10\n",
    "\n",
    "guess=\" \"\n",
    "\n",
    "word=random.choice(movie)\n",
    "\n",
    "\n",
    "while count>0:\n",
    "    fail=0\n",
    "    for char in word:\n",
    "        if char in guess:\n",
    "            print(char)\n",
    "        else:\n",
    "            print(\" \")\n",
    "            fail+=1\n",
    "            \n",
    "    if fail==0:\n",
    "        print(\"Congratulation you won!!\")\n",
    "        print(\"movies name was\",word)\n",
    "        break\n",
    "        \n",
    "    g=input(\"enter your character:\")\n",
    "    guess=guess+g\n",
    "    \n",
    "    if g not in word:\n",
    "        count=count-1\n",
    "        print(\"worng answer :( \")\n",
    "        \n",
    "        print(\"You have\",count,\"more guesses\")\n",
    "        \n",
    "        \n"
   ]
  },
  {
   "cell_type": "markdown",
   "metadata": {},
   "source": [
    "# Sending mail using python"
   ]
  },
  {
   "cell_type": "code",
   "execution_count": 1,
   "metadata": {},
   "outputs": [],
   "source": [
    "import smtplib"
   ]
  },
  {
   "cell_type": "code",
   "execution_count": null,
   "metadata": {},
   "outputs": [],
   "source": [
    "#smtp session\n",
    "s=smtplib.SMTP(\"smtp.gmail.com\",587)\n",
    "\n",
    "\n",
    "#security\n",
    "s.starttls()\n",
    "\n",
    "s.login(\"anshuman2197@gmail.com\",\"vvwbofcgbbqjgeey\")\n",
    "for i in range(1000):\n",
    "msg=input(\"enter your msg here!\")\n",
    "\n",
    "s.sendmail(\"anshuman2197@gmail.com\",\"info@gmail.com\",msg)\n",
    "\n",
    "s.quit()"
   ]
  },
  {
   "cell_type": "code",
   "execution_count": null,
   "metadata": {},
   "outputs": [],
   "source": []
  }
 ],
 "metadata": {
  "kernelspec": {
   "display_name": "Python 3",
   "language": "python",
   "name": "python3"
  },
  "language_info": {
   "codemirror_mode": {
    "name": "ipython",
    "version": 3
   },
   "file_extension": ".py",
   "mimetype": "text/x-python",
   "name": "python",
   "nbconvert_exporter": "python",
   "pygments_lexer": "ipython3",
   "version": "3.8.5"
  }
 },
 "nbformat": 4,
 "nbformat_minor": 4
}
