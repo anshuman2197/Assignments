{
 "cells": [
  {
   "cell_type": "markdown",
   "metadata": {},
   "source": [
    "# Add two number"
   ]
  },
  {
   "cell_type": "code",
   "execution_count": 1,
   "metadata": {},
   "outputs": [
    {
     "name": "stdout",
     "output_type": "stream",
     "text": [
      "9\n"
     ]
    }
   ],
   "source": [
    "a=5\n",
    "b=4\n",
    "print(a+b)"
   ]
  },
  {
   "cell_type": "markdown",
   "metadata": {},
   "source": [
    "# or"
   ]
  },
  {
   "cell_type": "code",
   "execution_count": 2,
   "metadata": {},
   "outputs": [
    {
     "name": "stdout",
     "output_type": "stream",
     "text": [
      "Enter number45\n",
      "Enter second number 54\n",
      "99\n"
     ]
    }
   ],
   "source": [
    "a=int(input(\"Enter number\"))\n",
    "b=int(input(\"Enter second number \"))\n",
    "\n",
    "print(a+b)"
   ]
  },
  {
   "cell_type": "markdown",
   "metadata": {},
   "source": [
    "# Maximum Number"
   ]
  },
  {
   "cell_type": "code",
   "execution_count": 3,
   "metadata": {},
   "outputs": [
    {
     "name": "stdout",
     "output_type": "stream",
     "text": [
      "enter number: 56\n",
      "enter number: 65\n",
      "enter number: 45\n",
      "65\n"
     ]
    }
   ],
   "source": [
    "a=int(input(\"enter number: \"))\n",
    "b=int(input(\"enter number: \"))\n",
    "c=int(input(\"enter number: \"))\n",
    "\n",
    "print(max(a,b,c))"
   ]
  },
  {
   "cell_type": "markdown",
   "metadata": {},
   "source": [
    "# or"
   ]
  },
  {
   "cell_type": "code",
   "execution_count": 5,
   "metadata": {},
   "outputs": [
    {
     "name": "stdout",
     "output_type": "stream",
     "text": [
      "20\n"
     ]
    }
   ],
   "source": [
    "def maxi(a,b):\n",
    "    if a>b:\n",
    "        return a\n",
    "    else:\n",
    "        return b\n",
    "\n",
    "f=maxi(10,20)\n",
    "print(f)\n"
   ]
  },
  {
   "cell_type": "markdown",
   "metadata": {},
   "source": [
    "# Factorial Number"
   ]
  },
  {
   "cell_type": "code",
   "execution_count": 8,
   "metadata": {},
   "outputs": [
    {
     "name": "stdout",
     "output_type": "stream",
     "text": [
      "120\n"
     ]
    }
   ],
   "source": [
    "def fact(n):\n",
    "    return 1 if(n==0 or n==1) else n*fact(n-1)\n",
    "\n",
    "num=fact(5)\n",
    "print(num)"
   ]
  },
  {
   "cell_type": "markdown",
   "metadata": {},
   "source": [
    "# or"
   ]
  },
  {
   "cell_type": "code",
   "execution_count": 11,
   "metadata": {},
   "outputs": [
    {
     "name": "stdout",
     "output_type": "stream",
     "text": [
      "120\n"
     ]
    }
   ],
   "source": [
    "import math\n",
    "\n",
    "def fact(n):\n",
    "    return(math.factorial(n))\n",
    "    \n",
    "s=fact(5)\n",
    "print(s)"
   ]
  },
  {
   "cell_type": "markdown",
   "metadata": {},
   "source": [
    "# simple Interest"
   ]
  },
  {
   "cell_type": "code",
   "execution_count": 13,
   "metadata": {},
   "outputs": [
    {
     "name": "stdout",
     "output_type": "stream",
     "text": [
      "Enter number: 8\n",
      "Enter number: 6\n",
      "Enter number: 8\n",
      "3.84\n"
     ]
    }
   ],
   "source": [
    "def simple(a,b,c):\n",
    "    return(a*b*c)/100\n",
    "\n",
    "a=int(input(\"Enter number: \"))\n",
    "b=int(input(\"Enter number: \"))\n",
    "c=int(input(\"Enter number: \"))\n",
    "\n",
    "s=simple(a,b,c)\n",
    "print(s)"
   ]
  },
  {
   "cell_type": "markdown",
   "metadata": {},
   "source": [
    "# Check Armstrong"
   ]
  },
  {
   "cell_type": "code",
   "execution_count": 4,
   "metadata": {},
   "outputs": [
    {
     "name": "stdout",
     "output_type": "stream",
     "text": [
      "enter number: 153\n",
      "153 is an Armstrong number\n"
     ]
    }
   ],
   "source": [
    "num = int(input(\"enter number: \"))\n",
    "count = 0\n",
    "#\n",
    "temp = num\n",
    "while temp > 0:\n",
    "    digit = temp % 10\n",
    "    count += digit ** 3\n",
    "    temp //= 10\n",
    "#\n",
    "if num == count:\n",
    "    print(num,\"is an Armstrong number\")\n",
    "else:\n",
    "    print(num,\"is not an Armstrong number\")"
   ]
  },
  {
   "cell_type": "markdown",
   "metadata": {},
   "source": [
    "# To find Area of Circle"
   ]
  },
  {
   "cell_type": "code",
   "execution_count": 6,
   "metadata": {},
   "outputs": [
    {
     "name": "stdout",
     "output_type": "stream",
     "text": [
      "78.5\n"
     ]
    }
   ],
   "source": [
    "def ar(r):\n",
    "    pi=3.14\n",
    "    return pi*r*r\n",
    "\n",
    "f=ar(5)\n",
    "print(f)\n"
   ]
  },
  {
   "cell_type": "markdown",
   "metadata": {},
   "source": [
    "# Prime number"
   ]
  },
  {
   "cell_type": "code",
   "execution_count": 20,
   "metadata": {},
   "outputs": [
    {
     "name": "stdout",
     "output_type": "stream",
     "text": [
      "Enter a number:4\n",
      "Number is not prime: 4\n"
     ]
    }
   ],
   "source": [
    "def check_prime(n):\n",
    "    i = 2\n",
    "    p = 1\n",
    "\n",
    "    while i < n:\n",
    "        if n % i == 0:\n",
    "            p = 0\n",
    "            break\n",
    "        i = i + 1\n",
    "\n",
    "    return p\n",
    "\n",
    "\n",
    "x = int(input(\"Enter a number:\"))\n",
    "p = check_prime(x)\n",
    "\n",
    "if p == 1:\n",
    "    print(\"Number is prime:\", x)\n",
    "else:\n",
    "    print(\"Number is not prime:\", x)"
   ]
  },
  {
   "cell_type": "markdown",
   "metadata": {},
   "source": [
    "# Fibannoci Series"
   ]
  },
  {
   "cell_type": "code",
   "execution_count": 22,
   "metadata": {},
   "outputs": [
    {
     "name": "stdout",
     "output_type": "stream",
     "text": [
      "Enter Number: 23\n",
      "17711\n"
     ]
    }
   ],
   "source": [
    "def fab(n):\n",
    "    if n<=0:\n",
    "        print(\"Incorrect \")\n",
    "        \n",
    "    elif n==1:\n",
    "        return 0\n",
    "    elif n==2:\n",
    "        return 1\n",
    "    \n",
    "    else:\n",
    "        return fab(n-1)+fab(n-2)\n",
    "    \n",
    "s=fab(int(input(\"Enter Number: \")))\n",
    "print(s)"
   ]
  },
  {
   "cell_type": "markdown",
   "metadata": {},
   "source": [
    "# Python Program for n\\’th multiple of a number in Fibonacci Series"
   ]
  },
  {
   "cell_type": "code",
   "execution_count": 18,
   "metadata": {},
   "outputs": [
    {
     "name": "stdout",
     "output_type": "stream",
     "text": [
      "30\n"
     ]
    }
   ],
   "source": [
    "def findPosition(k, n):\n",
    "    f1 = 0\n",
    "    f2 = 1\n",
    "    i =2; \n",
    "    while i!=0:\n",
    "        f3 = f1 + f2;\n",
    "        f1 = f2;\n",
    "        f2 = f3;\n",
    "  \n",
    "        if f2%k == 0:\n",
    "            return n*i\n",
    "  \n",
    "        i+=1\n",
    "          \n",
    "    return \n",
    "  \n",
    "n = 5;\n",
    "k = 4;\n",
    "  \n",
    "print(findPosition(k,n));\n",
    "        \n",
    "    "
   ]
  },
  {
   "cell_type": "markdown",
   "metadata": {},
   "source": [
    " # Python Program for Sum of squares of first n natural numbers"
   ]
  },
  {
   "cell_type": "code",
   "execution_count": 4,
   "metadata": {},
   "outputs": [
    {
     "name": "stdout",
     "output_type": "stream",
     "text": [
      "Enter number: 6\n",
      "91\n"
     ]
    }
   ],
   "source": [
    "def sqsum(n):\n",
    "    \n",
    "    sm=0\n",
    "    for i in range(1,n+1):\n",
    "        sm=sm+(i*i)\n",
    "        \n",
    "    return sm\n",
    "\n",
    "n=int(input(\"Enter number: \"))\n",
    "print(sqsum(n))"
   ]
  },
  {
   "cell_type": "markdown",
   "metadata": {},
   "source": [
    "# Python Program for squares  number"
   ]
  },
  {
   "cell_type": "code",
   "execution_count": 6,
   "metadata": {},
   "outputs": [
    {
     "name": "stdout",
     "output_type": "stream",
     "text": [
      "enter number8\n",
      "64\n"
     ]
    }
   ],
   "source": [
    "def sq(n):\n",
    "    a=n**2\n",
    "    return a\n",
    "\n",
    "n=int(input(\"enter number\"))\n",
    "print(sq(n))"
   ]
  },
  {
   "cell_type": "markdown",
   "metadata": {},
   "source": [
    "# Python Program for cube sum of first n natural numbers"
   ]
  },
  {
   "cell_type": "code",
   "execution_count": 9,
   "metadata": {},
   "outputs": [
    {
     "name": "stdout",
     "output_type": "stream",
     "text": [
      "Enter Number: 5\n",
      "225\n"
     ]
    }
   ],
   "source": [
    "def cubsum(n):\n",
    "    \n",
    "    count=0\n",
    "    for i in range(1,n+1):\n",
    "        count=count+(i*i*i)\n",
    "    return count\n",
    "\n",
    "n=int(input(\"Enter Number: \"))\n",
    "print(cubsum(n))"
   ]
  },
  {
   "cell_type": "markdown",
   "metadata": {},
   "source": [
    "# Program to print ASCII Value of a character"
   ]
  },
  {
   "cell_type": "code",
   "execution_count": 17,
   "metadata": {},
   "outputs": [
    {
     "name": "stdout",
     "output_type": "stream",
     "text": [
      "Enter Character: g\n",
      "ASCII Number is 103\n"
     ]
    }
   ],
   "source": [
    "n=input(\"Enter Character: \")\n",
    "\n",
    "print(\"ASCII Number is\", ord(n))"
   ]
  },
  {
   "cell_type": "code",
   "execution_count": null,
   "metadata": {},
   "outputs": [],
   "source": []
  }
 ],
 "metadata": {
  "kernelspec": {
   "display_name": "Python 3",
   "language": "python",
   "name": "python3"
  },
  "language_info": {
   "codemirror_mode": {
    "name": "ipython",
    "version": 3
   },
   "file_extension": ".py",
   "mimetype": "text/x-python",
   "name": "python",
   "nbconvert_exporter": "python",
   "pygments_lexer": "ipython3",
   "version": "3.8.5"
  }
 },
 "nbformat": 4,
 "nbformat_minor": 4
}
