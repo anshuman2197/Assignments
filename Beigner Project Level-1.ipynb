{
 "cells": [
  {
   "cell_type": "markdown",
   "metadata": {},
   "source": [
    "# Project 1\n",
    "## Take the input from the user and check if the age is in teens, adult,mid,age or old\n"
   ]
  },
  {
   "cell_type": "code",
   "execution_count": 3,
   "metadata": {},
   "outputs": [
    {
     "name": "stdout",
     "output_type": "stream",
     "text": [
      "Enter the age number: 34\n",
      "Input age is in ADULT\n"
     ]
    }
   ],
   "source": [
    "age=int(input(\"Enter the age number: \"))\n",
    "if age<13:\n",
    "    print(\"Input age is in MINOR\")\n",
    "elif age<18:\n",
    "    print(\"Input age is in TEEN\")\n",
    "elif age<40:\n",
    "    print(\"Input age is in ADULT\")\n",
    "elif age<60:\n",
    "    print(\"Input age is in MID AGE\")\n",
    "else:\n",
    "    print(\"Input age is in OLD AGE\")"
   ]
  },
  {
   "cell_type": "markdown",
   "metadata": {},
   "source": [
    "## Exercise for while loop\n",
    "### Take input from user and ask if he want to quit, if yes just print all the inputs"
   ]
  },
  {
   "cell_type": "code",
   "execution_count": 8,
   "metadata": {},
   "outputs": [
    {
     "name": "stdout",
     "output_type": "stream",
     "text": [
      "Please provide your input: y\n",
      "wants to continue y or n: u\n",
      "Please provide your input: kj\n",
      "wants to continue y or n: gdfe\n",
      "Please provide your input: hgffy\n",
      "wants to continue y or n: bvfy\n",
      "Please provide your input: hgu\n",
      "wants to continue y or n: n\n",
      "['y', 'kj', 'hgffy', 'hgu']\n"
     ]
    }
   ],
   "source": [
    "l=[]\n",
    "while True:\n",
    "    var=input(\"Please provide your input: \")\n",
    "    l.append(var)\n",
    "    choice=input(\"wants to continue y or n: \")\n",
    "    if choice=='n':\n",
    "        break\n",
    "print(l)"
   ]
  },
  {
   "cell_type": "markdown",
   "metadata": {},
   "source": [
    "## Exercise for function"
   ]
  },
  {
   "cell_type": "markdown",
   "metadata": {},
   "source": [
    "### create a function that return even and odd"
   ]
  },
  {
   "cell_type": "code",
   "execution_count": 9,
   "metadata": {},
   "outputs": [],
   "source": [
    "def chk(a):\n",
    "    if a%2==0:\n",
    "        return \"Even\"\n",
    "    else:\n",
    "        return \"odd\""
   ]
  },
  {
   "cell_type": "code",
   "execution_count": 10,
   "metadata": {},
   "outputs": [
    {
     "data": {
      "text/plain": [
       "'Even'"
      ]
     },
     "execution_count": 10,
     "metadata": {},
     "output_type": "execute_result"
    }
   ],
   "source": [
    "chk(4)"
   ]
  },
  {
   "cell_type": "code",
   "execution_count": 12,
   "metadata": {},
   "outputs": [
    {
     "data": {
      "text/plain": [
       "'odd'"
      ]
     },
     "execution_count": 12,
     "metadata": {},
     "output_type": "execute_result"
    }
   ],
   "source": [
    "chk(3)"
   ]
  },
  {
   "cell_type": "markdown",
   "metadata": {},
   "source": [
    "### Now make the same run till quits and keep checking"
   ]
  },
  {
   "cell_type": "code",
   "execution_count": 18,
   "metadata": {},
   "outputs": [],
   "source": [
    "def chk():\n",
    "    while True:\n",
    "        a=int(input('Enter number to check: '))\n",
    "        if a%2==0:\n",
    "            r= \"Even\"\n",
    "        else:\n",
    "            r= \"Odd\"\n",
    "        print(r)\n",
    "        choice=input(\"want too continue y or n: \")\n",
    "        if choice=='n':\n",
    "            break"
   ]
  },
  {
   "cell_type": "code",
   "execution_count": 19,
   "metadata": {},
   "outputs": [
    {
     "name": "stdout",
     "output_type": "stream",
     "text": [
      "Enter number to check: 3\n",
      "Odd\n",
      "want too continue y or n: y\n",
      "Enter number to check: 4\n",
      "Even\n",
      "want too continue y or n: n\n"
     ]
    }
   ],
   "source": [
    "chk()"
   ]
  },
  {
   "cell_type": "code",
   "execution_count": null,
   "metadata": {},
   "outputs": [],
   "source": []
  }
 ],
 "metadata": {
  "kernelspec": {
   "display_name": "Python 3",
   "language": "python",
   "name": "python3"
  },
  "language_info": {
   "codemirror_mode": {
    "name": "ipython",
    "version": 3
   },
   "file_extension": ".py",
   "mimetype": "text/x-python",
   "name": "python",
   "nbconvert_exporter": "python",
   "pygments_lexer": "ipython3",
   "version": "3.8.5"
  }
 },
 "nbformat": 4,
 "nbformat_minor": 4
}
