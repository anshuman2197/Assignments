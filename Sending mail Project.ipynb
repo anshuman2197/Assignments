{
 "cells": [
  {
   "cell_type": "markdown",
   "metadata": {},
   "source": [
    "# Sending mail using python"
   ]
  },
  {
   "cell_type": "code",
   "execution_count": 1,
   "metadata": {},
   "outputs": [],
   "source": [
    "import smtplib"
   ]
  },
  {
   "cell_type": "code",
   "execution_count": null,
   "metadata": {},
   "outputs": [],
   "source": [
    "#smtp session\n",
    "s=smtplib.SMTP(\"smtp.gmail.com\",587)\n",
    "\n",
    "\n",
    "#security\n",
    "s.starttls()\n",
    "\n",
    "s.login(\"anshuman2197@gmail.com\",\"vvwbofcgbbqjgeey\")\n",
    "for i in range(1000):\n",
    "msg=input(\"enter your msg here!\")\n",
    "\n",
    "s.sendmail(\"anshuman2197@gmail.com\",\"info@gmail.com\",msg)\n",
    "\n",
    "s.quit()"
   ]
  }
 ],
 "metadata": {
  "kernelspec": {
   "display_name": "Python 3",
   "language": "python",
   "name": "python3"
  },
  "language_info": {
   "codemirror_mode": {
    "name": "ipython",
    "version": 3
   },
   "file_extension": ".py",
   "mimetype": "text/x-python",
   "name": "python",
   "nbconvert_exporter": "python",
   "pygments_lexer": "ipython3",
   "version": "3.8.5"
  }
 },
 "nbformat": 4,
 "nbformat_minor": 4
}
