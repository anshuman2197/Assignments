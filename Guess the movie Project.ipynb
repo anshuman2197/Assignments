{
 "cells": [
  {
   "cell_type": "markdown",
   "metadata": {},
   "source": [
    "# Guess the movie"
   ]
  },
  {
   "cell_type": "code",
   "execution_count": null,
   "metadata": {},
   "outputs": [],
   "source": [
    "#firebase connectivity\n",
    "import firebase_admin\n",
    "from firebase_admin import credentials\n",
    "\n",
    "cred= credentials.Certificate(\"letsupgrade.json\")\n",
    "firebase_admin.initialize_app(cred)\n",
    "print(\"working\")"
   ]
  },
  {
   "cell_type": "code",
   "execution_count": null,
   "metadata": {},
   "outputs": [],
   "source": [
    "from firebase_admin import firestore"
   ]
  },
  {
   "cell_type": "code",
   "execution_count": null,
   "metadata": {},
   "outputs": [],
   "source": [
    "db=firestore.client()\n",
    "doc_ref=db.collection(\"movies\").document(\"Bollywood\")\n",
    "\n",
    "data={\"Name\":[\"war\",\"kgf\",\"3-idiots\",\"family-man\",\"dangal\"],\n",
    "     \"collection\":[400,500,200,100,600]}\n",
    "doc_ref.set(data)\n",
    "print(\"done\")"
   ]
  },
  {
   "cell_type": "markdown",
   "metadata": {},
   "source": [
    "# Retrive data from firebase"
   ]
  },
  {
   "cell_type": "code",
   "execution_count": null,
   "metadata": {},
   "outputs": [],
   "source": [
    "db=firestore.client()\n",
    "docs=db.collection(\"movies\").stream()\n",
    "for d in docs:\n",
    "    #print(d.to_dict())\n",
    "    database=d.to_dic()"
   ]
  },
  {
   "cell_type": "code",
   "execution_count": null,
   "metadata": {},
   "outputs": [],
   "source": [
    "database[\"Name\"]"
   ]
  },
  {
   "cell_type": "markdown",
   "metadata": {},
   "source": [
    "# Guess the movie name"
   ]
  },
  {
   "cell_type": "code",
   "execution_count": null,
   "metadata": {},
   "outputs": [],
   "source": [
    "import random\n",
    "movie=database[\"Name\"]\n",
    "player=input(\"write your name:\")\n",
    "print(\"Guess the character:\")\n",
    "print(\"you have 10 chance to get the movie:\")\n",
    "print(\"Best of luck\",player)\n",
    "\n",
    "count=10\n",
    "\n",
    "guess=\" \"\n",
    "\n",
    "word=random.choice(movie)\n",
    "\n",
    "\n",
    "while count>0:\n",
    "    fail=0\n",
    "    for char in word:\n",
    "        if char in guess:\n",
    "            print(char)\n",
    "        else:\n",
    "            print(\" \")\n",
    "            fail+=1\n",
    "            \n",
    "    if fail==0:\n",
    "        print(\"Congratulation you won!!\")\n",
    "        print(\"movies name was\",word)\n",
    "        break\n",
    "        \n",
    "    g=input(\"enter your character:\")\n",
    "    guess=guess+g\n",
    "    \n",
    "    if g not in word:\n",
    "        count=count-1\n",
    "        print(\"worng answer :( \")\n",
    "        \n",
    "        print(\"You have\",count,\"more guesses\")\n",
    "        \n",
    "        \n"
   ]
  },
  {
   "cell_type": "code",
   "execution_count": null,
   "metadata": {},
   "outputs": [],
   "source": []
  }
 ],
 "metadata": {
  "kernelspec": {
   "display_name": "Python 3",
   "language": "python",
   "name": "python3"
  },
  "language_info": {
   "codemirror_mode": {
    "name": "ipython",
    "version": 3
   },
   "file_extension": ".py",
   "mimetype": "text/x-python",
   "name": "python",
   "nbconvert_exporter": "python",
   "pygments_lexer": "ipython3",
   "version": "3.8.5"
  }
 },
 "nbformat": 4,
 "nbformat_minor": 4
}
