{
 "cells": [
  {
   "cell_type": "markdown",
   "metadata": {},
   "source": [
    "# Project on Calculator"
   ]
  },
  {
   "cell_type": "markdown",
   "metadata": {},
   "source": [
    "## create a claculator\n",
    " ### Add\n",
    " ### Subtract\n",
    " ### Multiply\n",
    " ### Divide\n",
    "\n",
    "##All above in a dynamic way ,i.e ask your user for a value input and also the choice is taken from to perform. Ask user if he/she wants to continue."
   ]
  },
  {
   "cell_type": "code",
   "execution_count": 6,
   "metadata": {},
   "outputs": [],
   "source": [
    "def calc():\n",
    "    while True:\n",
    "        num1=int(input(\"Enter a 1st number: \"))\n",
    "        num2=int(input(\"Enter a 2nd number: \"))\n",
    "        d={1:\"Add\",2:'Mul',3:\"Div\",4:\"Sub\"}\n",
    "        print(d)\n",
    "        op_ch=int(input(\"enter your Choice: \"))\n",
    "\n",
    "        if op_ch==1:\n",
    "            print(\"Add: \",num1+num2)\n",
    "        elif op_ch==2:\n",
    "            print(\"Mul: \",num1*num2)\n",
    "        elif op_ch==3:\n",
    "            print(\"Div: \",num1/num2)\n",
    "        elif op_ch==4:\n",
    "            print(\"Sub: \",num1-num2)\n",
    "        else:\n",
    "            print(\"Input is wrong!!\")\n",
    "            \n",
    "        choice=input(\"If you want to quit y/n small: \")\n",
    "        if choice=='y':\n",
    "            break"
   ]
  },
  {
   "cell_type": "code",
   "execution_count": 7,
   "metadata": {},
   "outputs": [
    {
     "name": "stdout",
     "output_type": "stream",
     "text": [
      "Enter a 1st number: 12\n",
      "Enter a 2nd number: 21\n",
      "{1: 'Add', 2: 'Mul', 3: 'Div', 4: 'Sub'}\n",
      "enter your Choice: 1\n",
      "Add:  33\n",
      "If you want to quit y/n small: n\n",
      "Enter a 1st number: 34\n",
      "Enter a 2nd number: 43\n",
      "{1: 'Add', 2: 'Mul', 3: 'Div', 4: 'Sub'}\n",
      "enter your Choice: 2\n",
      "Mul:  1462\n",
      "If you want to quit y/n small: n\n",
      "Enter a 1st number: 54\n",
      "Enter a 2nd number: 45\n",
      "{1: 'Add', 2: 'Mul', 3: 'Div', 4: 'Sub'}\n",
      "enter your Choice: 3\n",
      "Div:  1.2\n",
      "If you want to quit y/n small: n\n",
      "Enter a 1st number: 87\n",
      "Enter a 2nd number: 78\n",
      "{1: 'Add', 2: 'Mul', 3: 'Div', 4: 'Sub'}\n",
      "enter your Choice: 4\n",
      "Sub:  9\n",
      "If you want to quit y/n small: y\n"
     ]
    }
   ],
   "source": [
    "calc()"
   ]
  },
  {
   "cell_type": "code",
   "execution_count": null,
   "metadata": {},
   "outputs": [],
   "source": []
  }
 ],
 "metadata": {
  "kernelspec": {
   "display_name": "Python 3",
   "language": "python",
   "name": "python3"
  },
  "language_info": {
   "codemirror_mode": {
    "name": "ipython",
    "version": 3
   },
   "file_extension": ".py",
   "mimetype": "text/x-python",
   "name": "python",
   "nbconvert_exporter": "python",
   "pygments_lexer": "ipython3",
   "version": "3.8.5"
  }
 },
 "nbformat": 4,
 "nbformat_minor": 4
}
