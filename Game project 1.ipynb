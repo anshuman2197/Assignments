{
 "cells": [
  {
   "cell_type": "markdown",
   "metadata": {},
   "source": [
    "# Python First Project"
   ]
  },
  {
   "cell_type": "code",
   "execution_count": 10,
   "metadata": {},
   "outputs": [
    {
     "name": "stdout",
     "output_type": "stream",
     "text": [
      "Welcome to my First Game\n",
      "What is your name?: Anshu\n",
      "What is your age?: 23\n",
      "Hello Anshu You are 23 Year old.\n",
      "23 You are old enough!\n",
      "Do you want to play?yes\n",
      "You are starting with 15 health\n",
      "LETS PLAY\n",
      "First choice...Left or Right (left/right)? left\n",
      "Nice, you follow the path and reach a lake.. Do you swim across or go around (across/round)? acros\n",
      "You are notice a house and a river.which do you go to (river/house)? house\n",
      "You go to the house and are greated by the owner..\n",
      "You havec survive..\n"
     ]
    }
   ],
   "source": [
    "print(\"Welcome to my First Game\")\n",
    "\n",
    "name=input(\"What is your name?: \")\n",
    "age=input(\"What is your age?: \")\n",
    "\n",
    "print(\"Hello\",name, \"You are\", age, \"Year old.\")\n",
    "\n",
    "health=15\n",
    "\n",
    "if int(age)>=18:\n",
    "    print(age,\"You are old enough!\")\n",
    "    \n",
    "    wants_to_play=input(\"Do you want to play?\")\n",
    "    if wants_to_play==\"yes\":\n",
    "        print(\"You are starting with\", health,\"health\")\n",
    "\n",
    "        print(\"LETS PLAY\")\n",
    "        \n",
    "        left_or_right=input(\"First choice...Left or Right (left/right)? \")\n",
    "        \n",
    "        if left_or_right==\"left\":\n",
    "            ans=input(\"Nice, you follow the path and reach a lake.. Do you swim across or go around (across/round)? \")\n",
    "            \n",
    "            if ans==\"around\":\n",
    "                print('You went around and reached the other side of the lake')\n",
    "                \n",
    "            elif ans==\"across\":\n",
    "                print(\"You managed to get across,but were bit by afish and lost health..\")\n",
    "                health-=5\n",
    "            \n",
    "            ans=input(\"You are notice a house and a river.which do you go to (river/house)? \")\n",
    "            if ans==\"house\":\n",
    "                print(\"You go to the house and are greated by the owner..\")\n",
    "                health-=5\n",
    "                \n",
    "                if health <=0:\n",
    "                    print(\"You now have 0 health and you lost the game...\")\n",
    "                else:\n",
    "                    print(\"You have survive..\")\n",
    "            else:\n",
    "                print(\"You fell in the river and lost\")\n",
    "                \n",
    "        else:\n",
    "            print(\"You fell in the river and lost...\")\n",
    "    else:\n",
    "        print(\"Cyaa...\")\n",
    "        \n",
    "else:\n",
    "    print(\"You are not old enough to play...\")"
   ]
  }
 ],
 "metadata": {
  "kernelspec": {
   "display_name": "Python 3",
   "language": "python",
   "name": "python3"
  },
  "language_info": {
   "codemirror_mode": {
    "name": "ipython",
    "version": 3
   },
   "file_extension": ".py",
   "mimetype": "text/x-python",
   "name": "python",
   "nbconvert_exporter": "python",
   "pygments_lexer": "ipython3",
   "version": "3.8.5"
  }
 },
 "nbformat": 4,
 "nbformat_minor": 4
}
