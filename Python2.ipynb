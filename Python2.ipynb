{
 "cells": [
  {
   "cell_type": "markdown",
   "metadata": {},
   "source": [
    "# while"
   ]
  },
  {
   "cell_type": "code",
   "execution_count": 25,
   "metadata": {},
   "outputs": [],
   "source": [
    "i=0\n",
    "while i<0:\n",
    "    print(i)\n",
    "    "
   ]
  },
  {
   "cell_type": "code",
   "execution_count": 26,
   "metadata": {},
   "outputs": [
    {
     "name": "stdout",
     "output_type": "stream",
     "text": [
      "Enter direction: \n",
      "Enter direction: \n",
      "Enter direction: \n",
      "Enter direction: \n",
      "Enter direction: \n",
      "Enter direction: \n",
      "Enter direction: \n",
      "Enter direction: \n",
      "Enter direction: \n",
      "Enter direction: \n",
      "Enter direction: quit\n",
      "game over\n"
     ]
    }
   ],
   "source": [
    "ava=['north','east','north east']\n",
    "\n",
    "choose=\"\"\n",
    "\n",
    "while choose not in ava:\n",
    "    choose=input(\"Enter direction: \")\n",
    "    if(choose==\"quit\"):\n",
    "        print(\"game over\")\n",
    "        break\n",
    "else:  \n",
    "    print(\"great you win\")"
   ]
  },
  {
   "cell_type": "code",
   "execution_count": 24,
   "metadata": {},
   "outputs": [
    {
     "name": "stdout",
     "output_type": "stream",
     "text": [
      "Enter Number 1 to 10: 4\n",
      "gues too low\n",
      "Enter Number 1 to 10: 7\n",
      "You win\n"
     ]
    }
   ],
   "source": [
    "import random\n",
    "n=random.randint(1,10)\n",
    "count=0\n",
    "\n",
    "# guess=int(input(\"Enter Numer 1 to 10: \"))\n",
    "while n!=\"guess\":\n",
    "    if count==3:\n",
    "        print(\"you loss the game\")\n",
    "        break\n",
    "    guess=int(input(\"Enter Number 1 to 10: \"))   \n",
    "    if guess< n:\n",
    "        print(\"gues too low\")\n",
    "#         guess=int(input(\"Enter Numer\"))\n",
    "    elif guess> n:\n",
    "        print(\"Guess too high\")\n",
    "#         guess=int(input(\"Enter Numer\"))\n",
    "    else:\n",
    "        print(\"You win\")\n",
    "        break\n",
    "    \n",
    "    count+=1"
   ]
  },
  {
   "cell_type": "markdown",
   "metadata": {},
   "source": [
    "# List"
   ]
  },
  {
   "cell_type": "code",
   "execution_count": 30,
   "metadata": {},
   "outputs": [
    {
     "name": "stdout",
     "output_type": "stream",
     "text": [
      "[2, 3, 4, 5, 6, 8.9, 0, 8]\n"
     ]
    }
   ],
   "source": [
    "list1=[2,3,4,5,6,8.9,0,8]\n",
    "print(list1)"
   ]
  },
  {
   "cell_type": "code",
   "execution_count": 31,
   "metadata": {},
   "outputs": [
    {
     "name": "stdout",
     "output_type": "stream",
     "text": [
      "2\n",
      "3\n",
      "4\n",
      "5\n",
      "6\n",
      "8.9\n",
      "0\n",
      "8\n"
     ]
    }
   ],
   "source": [
    "for i in list1:\n",
    "    print(i)"
   ]
  },
  {
   "cell_type": "code",
   "execution_count": 32,
   "metadata": {},
   "outputs": [],
   "source": [
    "list1.append(5)"
   ]
  },
  {
   "cell_type": "code",
   "execution_count": 33,
   "metadata": {},
   "outputs": [
    {
     "data": {
      "text/plain": [
       "[2, 3, 4, 5, 6, 8.9, 0, 8, 5]"
      ]
     },
     "execution_count": 33,
     "metadata": {},
     "output_type": "execute_result"
    }
   ],
   "source": [
    "list1"
   ]
  },
  {
   "cell_type": "code",
   "execution_count": 40,
   "metadata": {},
   "outputs": [
    {
     "data": {
      "text/plain": [
       "[1, 3, 5, 7, 9, 2, 4, 6, 8, 10]"
      ]
     },
     "execution_count": 40,
     "metadata": {},
     "output_type": "execute_result"
    }
   ],
   "source": [
    "odd=[1,3,5,7,9]\n",
    "even=[2,4,6,8,10]\n",
    "num=odd+even\n",
    "num"
   ]
  },
  {
   "cell_type": "code",
   "execution_count": 41,
   "metadata": {},
   "outputs": [
    {
     "data": {
      "text/plain": [
       "[1, 3, 5, 7, 9, 2, 4, 6, 8, 10]"
      ]
     },
     "execution_count": 41,
     "metadata": {},
     "output_type": "execute_result"
    }
   ],
   "source": [
    "# num.sort()\n",
    "num"
   ]
  },
  {
   "cell_type": "code",
   "execution_count": 42,
   "metadata": {},
   "outputs": [
    {
     "data": {
      "text/plain": [
       "[1, 2, 3, 4, 5, 6, 7, 8, 9, 10]"
      ]
     },
     "execution_count": 42,
     "metadata": {},
     "output_type": "execute_result"
    }
   ],
   "source": [
    "sorted(num)"
   ]
  },
  {
   "cell_type": "code",
   "execution_count": 43,
   "metadata": {},
   "outputs": [
    {
     "data": {
      "text/plain": [
       "[1, 3, 5, 7, 9, 2, 4, 6, 8, 10]"
      ]
     },
     "execution_count": 43,
     "metadata": {},
     "output_type": "execute_result"
    }
   ],
   "source": [
    "num\n"
   ]
  },
  {
   "cell_type": "code",
   "execution_count": 45,
   "metadata": {},
   "outputs": [
    {
     "name": "stdout",
     "output_type": "stream",
     "text": [
      "isn't equal\n"
     ]
    }
   ],
   "source": [
    "lis1=[23,43,35,54]\n",
    "lis2=[23,4345,543,345]\n",
    "\n",
    "if lis1==lis2:\n",
    "    print(\"List are equal\")\n",
    "    \n",
    "else:\n",
    "    print(\"isn't equal\")"
   ]
  },
  {
   "cell_type": "code",
   "execution_count": 49,
   "metadata": {},
   "outputs": [
    {
     "data": {
      "text/plain": [
       "[]"
      ]
     },
     "execution_count": 49,
     "metadata": {},
     "output_type": "execute_result"
    }
   ],
   "source": [
    "list1=[]\n",
    "list1"
   ]
  },
  {
   "cell_type": "code",
   "execution_count": 53,
   "metadata": {},
   "outputs": [
    {
     "data": {
      "text/plain": [
       "[2, 4, 6, 8]"
      ]
     },
     "execution_count": 53,
     "metadata": {},
     "output_type": "execute_result"
    }
   ],
   "source": [
    "lis1=[2,4,6,8]\n",
    "lis2=lis1\n",
    "lis2"
   ]
  },
  {
   "cell_type": "code",
   "execution_count": 54,
   "metadata": {},
   "outputs": [
    {
     "name": "stdout",
     "output_type": "stream",
     "text": [
      "True\n"
     ]
    }
   ],
   "source": [
    "print(lis1 is lis2)"
   ]
  },
  {
   "cell_type": "code",
   "execution_count": 57,
   "metadata": {},
   "outputs": [
    {
     "data": {
      "text/plain": [
       "[8, 6, 4, 2]"
      ]
     },
     "execution_count": 57,
     "metadata": {},
     "output_type": "execute_result"
    }
   ],
   "source": [
    "lis2 .sort(reverse=True)\n",
    "lis2"
   ]
  },
  {
   "cell_type": "code",
   "execution_count": 58,
   "metadata": {},
   "outputs": [
    {
     "data": {
      "text/plain": [
       "[8, 6, 4, 2]"
      ]
     },
     "execution_count": 58,
     "metadata": {},
     "output_type": "execute_result"
    }
   ],
   "source": [
    "lis1"
   ]
  },
  {
   "cell_type": "code",
   "execution_count": 59,
   "metadata": {},
   "outputs": [
    {
     "data": {
      "text/plain": [
       "False"
      ]
     },
     "execution_count": 59,
     "metadata": {},
     "output_type": "execute_result"
    }
   ],
   "source": [
    "l1=[]\n",
    "l2=[]\n",
    "l1 is l2"
   ]
  },
  {
   "cell_type": "code",
   "execution_count": 60,
   "metadata": {},
   "outputs": [
    {
     "data": {
      "text/plain": [
       "True"
      ]
     },
     "execution_count": 60,
     "metadata": {},
     "output_type": "execute_result"
    }
   ],
   "source": [
    "l1==l2"
   ]
  },
  {
   "cell_type": "code",
   "execution_count": 64,
   "metadata": {},
   "outputs": [
    {
     "data": {
      "text/plain": [
       "[[1, 3, 5, 7, 9], [2, 4, 6, 8, 10]]"
      ]
     },
     "execution_count": 64,
     "metadata": {},
     "output_type": "execute_result"
    }
   ],
   "source": [
    "odd=[1,3,5,7,9]\n",
    "even=[2,4,6,8,10]\n",
    "num=[odd,even]\n",
    "num"
   ]
  },
  {
   "cell_type": "code",
   "execution_count": 66,
   "metadata": {},
   "outputs": [
    {
     "name": "stdout",
     "output_type": "stream",
     "text": [
      "[1, 3, 5, 7, 9]\n",
      "[2, 4, 6, 8, 10]\n"
     ]
    }
   ],
   "source": [
    "for i in num:\n",
    "    print(i)"
   ]
  },
  {
   "cell_type": "code",
   "execution_count": 68,
   "metadata": {},
   "outputs": [
    {
     "name": "stdout",
     "output_type": "stream",
     "text": [
      "2\n",
      "4\n",
      "6\n",
      "8\n",
      "10\n"
     ]
    }
   ],
   "source": [
    "for item in i:\n",
    "    print(item)"
   ]
  },
  {
   "cell_type": "code",
   "execution_count": 69,
   "metadata": {},
   "outputs": [],
   "source": [
    "menu=[]\n",
    "menu.append([\"egg\",\"cream\",\"bread\"])\n",
    "menu.append([\"cherry\",\"cream\",\"bread\"])\n",
    "menu.append([\"egg\",\"cherry\",\"bread\"])\n",
    "menu.append([\"egg\",\"cream\",\"bread\",\"cherry\"])\n",
    "menu.append([\"egg\",\"cream\",\"bread\",\"bread\"])\n",
    "menu.append([\"egg\",\"cream\",\"Cherry\",\"cheese\"])\n",
    "menu.append([\"egg\",\"cream\",\"Cherry\",\"Chicken\"])"
   ]
  },
  {
   "cell_type": "code",
   "execution_count": 70,
   "metadata": {},
   "outputs": [
    {
     "name": "stdout",
     "output_type": "stream",
     "text": [
      "[['egg', 'cream', 'bread'], ['cherry', 'cream', 'bread'], ['egg', 'cherry', 'bread'], ['egg', 'cream', 'bread', 'cherry'], ['egg', 'cream', 'bread', 'bread'], ['egg', 'cream', 'Cherry', 'cheese'], ['egg', 'cream', 'Cherry', 'Chicken']]\n"
     ]
    }
   ],
   "source": [
    "print(menu)"
   ]
  },
  {
   "cell_type": "code",
   "execution_count": 75,
   "metadata": {},
   "outputs": [
    {
     "name": "stdout",
     "output_type": "stream",
     "text": [
      "cherry\n",
      "cream\n",
      "bread\n"
     ]
    }
   ],
   "source": [
    "for sub in menu:\n",
    "    if \"egg\" not in sub:\n",
    "        for i in sub:\n",
    "            print(i)"
   ]
  },
  {
   "cell_type": "markdown",
   "metadata": {},
   "source": [
    "# iterators"
   ]
  },
  {
   "cell_type": "code",
   "execution_count": 76,
   "metadata": {},
   "outputs": [
    {
     "name": "stdout",
     "output_type": "stream",
     "text": [
      "0\n",
      "1\n",
      "2\n",
      "3\n",
      "4\n",
      "5\n",
      "6\n",
      "7\n",
      "8\n"
     ]
    }
   ],
   "source": [
    "string=\"012345678\"\n",
    "\n",
    "for char in iter(string):\n",
    "    print(char)\n",
    "    \n"
   ]
  },
  {
   "cell_type": "code",
   "execution_count": 77,
   "metadata": {},
   "outputs": [
    {
     "data": {
      "text/plain": [
       "'0'"
      ]
     },
     "execution_count": 77,
     "metadata": {},
     "output_type": "execute_result"
    }
   ],
   "source": [
    "string[0]"
   ]
  },
  {
   "cell_type": "code",
   "execution_count": 78,
   "metadata": {},
   "outputs": [
    {
     "data": {
      "text/plain": [
       "'0'"
      ]
     },
     "execution_count": 78,
     "metadata": {},
     "output_type": "execute_result"
    }
   ],
   "source": [
    "it=iter(string)\n",
    "next(it)"
   ]
  },
  {
   "cell_type": "code",
   "execution_count": 79,
   "metadata": {},
   "outputs": [
    {
     "data": {
      "text/plain": [
       "'1'"
      ]
     },
     "execution_count": 79,
     "metadata": {},
     "output_type": "execute_result"
    }
   ],
   "source": [
    "next(it)"
   ]
  },
  {
   "cell_type": "markdown",
   "metadata": {},
   "source": [
    "# Range"
   ]
  },
  {
   "cell_type": "code",
   "execution_count": 83,
   "metadata": {},
   "outputs": [
    {
     "name": "stdout",
     "output_type": "stream",
     "text": [
      "range(1, 10)\n"
     ]
    }
   ],
   "source": [
    "i=range(1,10)\n",
    "print(i)"
   ]
  },
  {
   "cell_type": "code",
   "execution_count": 84,
   "metadata": {},
   "outputs": [
    {
     "name": "stdout",
     "output_type": "stream",
     "text": [
      "[1, 3, 5, 7, 9]\n"
     ]
    }
   ],
   "source": [
    "num=list(range(1,11))\n",
    "odd=list(range(1,11,2))\n",
    "print(odd)"
   ]
  },
  {
   "cell_type": "code",
   "execution_count": 85,
   "metadata": {},
   "outputs": [
    {
     "data": {
      "text/plain": [
       "[2, 4, 6, 8, 10]"
      ]
     },
     "execution_count": 85,
     "metadata": {},
     "output_type": "execute_result"
    }
   ],
   "source": [
    "even=list(range(2,12,2))\n",
    "even"
   ]
  },
  {
   "cell_type": "code",
   "execution_count": 86,
   "metadata": {},
   "outputs": [
    {
     "data": {
      "text/plain": [
       "1"
      ]
     },
     "execution_count": 86,
     "metadata": {},
     "output_type": "execute_result"
    }
   ],
   "source": [
    "num=iter(range(1,11))\n",
    "next(num)\n"
   ]
  },
  {
   "cell_type": "code",
   "execution_count": 87,
   "metadata": {},
   "outputs": [
    {
     "name": "stdout",
     "output_type": "stream",
     "text": [
      "Enter a number less then one million3\n",
      "not divisible\n"
     ]
    }
   ],
   "source": [
    "i=int(input(\"Enter a number less then one million\"))\n",
    "\n",
    "if(i % 11 == 0):\n",
    "    print(\"Yes\")\n",
    "else:\n",
    "    print(\"not divisible\")"
   ]
  },
  {
   "cell_type": "code",
   "execution_count": 2,
   "metadata": {},
   "outputs": [
    {
     "name": "stdout",
     "output_type": "stream",
     "text": [
      "range(0, 100)\n",
      "99 98 97 96 95 94 93 92 91 90 89 88 87 86 85 84 83 82 81 80 79 78 77 76 75 74 73 72 71 70 69 68 67 66 65 64 63 62 61 60 59 58 57 56 55 54 53 52 51 50 49 48 47 46 45 44 43 42 41 40 39 38 37 36 35 34 33 32 31 30 29 28 27 26 25 24 23 22 21 20 19 18 17 16 15 14 13 12 11 10 9 8 7 6 5 4 3 2 1 0 "
     ]
    }
   ],
   "source": [
    "r=range(0,100)\n",
    "\n",
    "print(r)\n",
    "\n",
    "for i in r[::-1]:\n",
    "    print(i,end=\" \")\n"
   ]
  },
  {
   "cell_type": "code",
   "execution_count": 5,
   "metadata": {},
   "outputs": [
    {
     "name": "stdout",
     "output_type": "stream",
     "text": [
      "0\n",
      "20\n",
      "40\n",
      "60\n",
      "80\n"
     ]
    }
   ],
   "source": [
    "num=range(0,100,4)\n",
    "\n",
    "for i in num[::5]:\n",
    "    print(i)"
   ]
  },
  {
   "cell_type": "markdown",
   "metadata": {},
   "source": [
    "# Tuple"
   ]
  },
  {
   "cell_type": "code",
   "execution_count": 24,
   "metadata": {},
   "outputs": [
    {
     "data": {
      "text/plain": [
       "['that', 'is ', 'a ', 'list1 ']"
      ]
     },
     "execution_count": 24,
     "metadata": {},
     "output_type": "execute_result"
    }
   ],
   "source": [
    "tup1=(\"this\",\"is\",\"tuple1\")\n",
    "list1=[\"this \",\"is \",\"a \",\"list1 \"]\n",
    "list1[0]=\"that\"\n",
    "list1"
   ]
  },
  {
   "cell_type": "code",
   "execution_count": 26,
   "metadata": {},
   "outputs": [],
   "source": [
    "li=list(tup1)\n",
    "li[0]=\"that\""
   ]
  },
  {
   "cell_type": "code",
   "execution_count": 27,
   "metadata": {},
   "outputs": [
    {
     "data": {
      "text/plain": [
       "['that', 'is', 'tuple1']"
      ]
     },
     "execution_count": 27,
     "metadata": {},
     "output_type": "execute_result"
    }
   ],
   "source": [
    "li"
   ]
  },
  {
   "cell_type": "code",
   "execution_count": 29,
   "metadata": {},
   "outputs": [],
   "source": [
    "tup1=tuple(li)"
   ]
  },
  {
   "cell_type": "code",
   "execution_count": 30,
   "metadata": {},
   "outputs": [
    {
     "data": {
      "text/plain": [
       "('that', 'is', 'tuple1')"
      ]
     },
     "execution_count": 30,
     "metadata": {},
     "output_type": "execute_result"
    }
   ],
   "source": [
    "tup1"
   ]
  },
  {
   "cell_type": "code",
   "execution_count": 31,
   "metadata": {},
   "outputs": [],
   "source": [
    "ind=(\"Inderjeet\",21,\"6 feb 1998'\")\n",
    "name,age,dob=ind"
   ]
  },
  {
   "cell_type": "code",
   "execution_count": 32,
   "metadata": {},
   "outputs": [
    {
     "name": "stdout",
     "output_type": "stream",
     "text": [
      "Inderjeet 21 6 feb 1998'\n"
     ]
    }
   ],
   "source": [
    "print(name,age,dob)"
   ]
  },
  {
   "cell_type": "code",
   "execution_count": 35,
   "metadata": {},
   "outputs": [],
   "source": [
    "a=5\n",
    "b=8\n",
    "a,b=b,a"
   ]
  },
  {
   "cell_type": "code",
   "execution_count": 36,
   "metadata": {},
   "outputs": [
    {
     "name": "stdout",
     "output_type": "stream",
     "text": [
      "8 5\n"
     ]
    }
   ],
   "source": [
    "print(a,b)"
   ]
  },
  {
   "cell_type": "code",
   "execution_count": 37,
   "metadata": {},
   "outputs": [
    {
     "data": {
      "text/plain": [
       "('Dino James',\n",
       " 27,\n",
       " ((1, 'Girlfriend'), (2, 'Yaaden'), (3, 'Thank a lot'), (4, 'Hancook')))"
      ]
     },
     "execution_count": 37,
     "metadata": {},
     "output_type": "execute_result"
    }
   ],
   "source": [
    "singer=\"Dino James\",27,((1,\"Girlfriend\"),(2,\"Yaaden\"),(3,\"Thank a lot\"),(4,\"Hancook\"))\n",
    "singer"
   ]
  },
  {
   "cell_type": "code",
   "execution_count": 40,
   "metadata": {},
   "outputs": [],
   "source": [
    "name, age, Track=singer"
   ]
  },
  {
   "cell_type": "code",
   "execution_count": 41,
   "metadata": {},
   "outputs": [
    {
     "name": "stdout",
     "output_type": "stream",
     "text": [
      "Dino James\n",
      "27\n",
      "((1, 'Girlfriend'), (2, 'Yaaden'), (3, 'Thank a lot'), (4, 'Hancook'))\n"
     ]
    }
   ],
   "source": [
    "print(name)\n",
    "print(age)\n",
    "print(Track)"
   ]
  },
  {
   "cell_type": "code",
   "execution_count": 43,
   "metadata": {},
   "outputs": [
    {
     "name": "stdout",
     "output_type": "stream",
     "text": [
      "(1, 'Girlfriend')\n",
      "(2, 'Yaaden')\n",
      "(3, 'Thank a lot')\n",
      "(4, 'Hancook')\n"
     ]
    }
   ],
   "source": [
    "for track in Track:\n",
    "    print(track)"
   ]
  },
  {
   "cell_type": "code",
   "execution_count": 44,
   "metadata": {},
   "outputs": [
    {
     "name": "stdout",
     "output_type": "stream",
     "text": [
      "1 Girlfriend\n",
      "2 Yaaden\n",
      "3 Thank a lot\n",
      "4 Hancook\n"
     ]
    }
   ],
   "source": [
    "for track in Track:\n",
    "    number,track=track\n",
    "    print(number,track)"
   ]
  },
  {
   "cell_type": "markdown",
   "metadata": {},
   "source": [
    "# Dictionary"
   ]
  },
  {
   "cell_type": "code",
   "execution_count": 45,
   "metadata": {},
   "outputs": [
    {
     "data": {
      "text/plain": [
       "{'democracy': 'a gov by people',\n",
       " 'Ominicent': 'one who know everything',\n",
       " 'inaudible': 'sound cant be heard'}"
      ]
     },
     "execution_count": 45,
     "metadata": {},
     "output_type": "execute_result"
    }
   ],
   "source": [
    "words={'democracy':'a gov by people','Ominicent':'one who know everything','inaudible':'sound cant be heard'}\n",
    "words"
   ]
  },
  {
   "cell_type": "code",
   "execution_count": 50,
   "metadata": {},
   "outputs": [
    {
     "data": {
      "text/plain": [
       "'one who know everything'"
      ]
     },
     "execution_count": 50,
     "metadata": {},
     "output_type": "execute_result"
    }
   ],
   "source": [
    "words['Ominicent']"
   ]
  },
  {
   "cell_type": "code",
   "execution_count": 52,
   "metadata": {},
   "outputs": [],
   "source": [
    "words['ominipresent']='one who present everywhere'"
   ]
  },
  {
   "cell_type": "code",
   "execution_count": 53,
   "metadata": {},
   "outputs": [
    {
     "data": {
      "text/plain": [
       "{'democracy': 'a gov by people',\n",
       " 'Ominicent': 'one who know everything',\n",
       " 'inaudible': 'sound cant be heard',\n",
       " 'ominipresent': 'one who present everywhere'}"
      ]
     },
     "execution_count": 53,
     "metadata": {},
     "output_type": "execute_result"
    }
   ],
   "source": [
    "words"
   ]
  },
  {
   "cell_type": "code",
   "execution_count": 54,
   "metadata": {},
   "outputs": [],
   "source": [
    "del words['democracy']"
   ]
  },
  {
   "cell_type": "code",
   "execution_count": 55,
   "metadata": {},
   "outputs": [
    {
     "data": {
      "text/plain": [
       "{'Ominicent': 'one who know everything',\n",
       " 'inaudible': 'sound cant be heard',\n",
       " 'ominipresent': 'one who present everywhere'}"
      ]
     },
     "execution_count": 55,
     "metadata": {},
     "output_type": "execute_result"
    }
   ],
   "source": [
    "words"
   ]
  },
  {
   "cell_type": "code",
   "execution_count": 59,
   "metadata": {},
   "outputs": [
    {
     "data": {
      "text/plain": [
       "dict_keys(['Ominicent', 'inaudible', 'ominipresent'])"
      ]
     },
     "execution_count": 59,
     "metadata": {},
     "output_type": "execute_result"
    }
   ],
   "source": [
    "words.keys()"
   ]
  },
  {
   "cell_type": "code",
   "execution_count": 60,
   "metadata": {},
   "outputs": [
    {
     "data": {
      "text/plain": [
       "dict_values(['one who know everything', 'sound cant be heard', 'one who present everywhere'])"
      ]
     },
     "execution_count": 60,
     "metadata": {},
     "output_type": "execute_result"
    }
   ],
   "source": [
    "words.values()"
   ]
  },
  {
   "cell_type": "code",
   "execution_count": 63,
   "metadata": {},
   "outputs": [
    {
     "name": "stdout",
     "output_type": "stream",
     "text": [
      "Ominicent\n",
      "one who know everything\n",
      "inaudible\n",
      "sound cant be heard\n",
      "ominipresent\n",
      "one who present everywhere\n"
     ]
    }
   ],
   "source": [
    "for word in words:\n",
    "    print(word)\n",
    "    print(words[word])"
   ]
  },
  {
   "cell_type": "code",
   "execution_count": 73,
   "metadata": {},
   "outputs": [
    {
     "ename": "KeyboardInterrupt",
     "evalue": "Interrupted by user",
     "output_type": "error",
     "traceback": [
      "\u001b[1;31m---------------------------------------------------------------------------\u001b[0m",
      "\u001b[1;31mKeyboardInterrupt\u001b[0m                         Traceback (most recent call last)",
      "\u001b[1;32m<ipython-input-73-a68afdb8f3f8>\u001b[0m in \u001b[0;36m<module>\u001b[1;34m\u001b[0m\n\u001b[0;32m      1\u001b[0m \u001b[1;32mwhile\u001b[0m \u001b[1;32mTrue\u001b[0m\u001b[1;33m:\u001b[0m\u001b[1;33m\u001b[0m\u001b[1;33m\u001b[0m\u001b[0m\n\u001b[1;32m----> 2\u001b[1;33m     \u001b[0minpu\u001b[0m\u001b[1;33m=\u001b[0m\u001b[0minput\u001b[0m\u001b[1;33m(\u001b[0m\u001b[1;34m\"Enter Word: \"\u001b[0m\u001b[1;33m)\u001b[0m\u001b[1;33m\u001b[0m\u001b[1;33m\u001b[0m\u001b[0m\n\u001b[0m\u001b[0;32m      3\u001b[0m     \u001b[1;32mif\u001b[0m \u001b[0minpu\u001b[0m\u001b[1;33m==\u001b[0m\u001b[1;34m\"quit\"\u001b[0m\u001b[1;33m:\u001b[0m\u001b[1;33m\u001b[0m\u001b[1;33m\u001b[0m\u001b[0m\n\u001b[0;32m      4\u001b[0m         \u001b[1;32mbreak\u001b[0m\u001b[1;33m\u001b[0m\u001b[1;33m\u001b[0m\u001b[0m\n\u001b[0;32m      5\u001b[0m \u001b[1;33m\u001b[0m\u001b[0m\n",
      "\u001b[1;32mC:\\ProgramData\\Anaconda3\\lib\\site-packages\\ipykernel\\kernelbase.py\u001b[0m in \u001b[0;36mraw_input\u001b[1;34m(self, prompt)\u001b[0m\n\u001b[0;32m    858\u001b[0m                 \u001b[1;34m\"raw_input was called, but this frontend does not support input requests.\"\u001b[0m\u001b[1;33m\u001b[0m\u001b[1;33m\u001b[0m\u001b[0m\n\u001b[0;32m    859\u001b[0m             )\n\u001b[1;32m--> 860\u001b[1;33m         return self._input_request(str(prompt),\n\u001b[0m\u001b[0;32m    861\u001b[0m             \u001b[0mself\u001b[0m\u001b[1;33m.\u001b[0m\u001b[0m_parent_ident\u001b[0m\u001b[1;33m,\u001b[0m\u001b[1;33m\u001b[0m\u001b[1;33m\u001b[0m\u001b[0m\n\u001b[0;32m    862\u001b[0m             \u001b[0mself\u001b[0m\u001b[1;33m.\u001b[0m\u001b[0m_parent_header\u001b[0m\u001b[1;33m,\u001b[0m\u001b[1;33m\u001b[0m\u001b[1;33m\u001b[0m\u001b[0m\n",
      "\u001b[1;32mC:\\ProgramData\\Anaconda3\\lib\\site-packages\\ipykernel\\kernelbase.py\u001b[0m in \u001b[0;36m_input_request\u001b[1;34m(self, prompt, ident, parent, password)\u001b[0m\n\u001b[0;32m    902\u001b[0m             \u001b[1;32mexcept\u001b[0m \u001b[0mKeyboardInterrupt\u001b[0m\u001b[1;33m:\u001b[0m\u001b[1;33m\u001b[0m\u001b[1;33m\u001b[0m\u001b[0m\n\u001b[0;32m    903\u001b[0m                 \u001b[1;31m# re-raise KeyboardInterrupt, to truncate traceback\u001b[0m\u001b[1;33m\u001b[0m\u001b[1;33m\u001b[0m\u001b[1;33m\u001b[0m\u001b[0m\n\u001b[1;32m--> 904\u001b[1;33m                 \u001b[1;32mraise\u001b[0m \u001b[0mKeyboardInterrupt\u001b[0m\u001b[1;33m(\u001b[0m\u001b[1;34m\"Interrupted by user\"\u001b[0m\u001b[1;33m)\u001b[0m \u001b[1;32mfrom\u001b[0m \u001b[1;32mNone\u001b[0m\u001b[1;33m\u001b[0m\u001b[1;33m\u001b[0m\u001b[0m\n\u001b[0m\u001b[0;32m    905\u001b[0m             \u001b[1;32mexcept\u001b[0m \u001b[0mException\u001b[0m \u001b[1;32mas\u001b[0m \u001b[0me\u001b[0m\u001b[1;33m:\u001b[0m\u001b[1;33m\u001b[0m\u001b[1;33m\u001b[0m\u001b[0m\n\u001b[0;32m    906\u001b[0m                 \u001b[0mself\u001b[0m\u001b[1;33m.\u001b[0m\u001b[0mlog\u001b[0m\u001b[1;33m.\u001b[0m\u001b[0mwarning\u001b[0m\u001b[1;33m(\u001b[0m\u001b[1;34m\"Invalid Message:\"\u001b[0m\u001b[1;33m,\u001b[0m \u001b[0mexc_info\u001b[0m\u001b[1;33m=\u001b[0m\u001b[1;32mTrue\u001b[0m\u001b[1;33m)\u001b[0m\u001b[1;33m\u001b[0m\u001b[1;33m\u001b[0m\u001b[0m\n",
      "\u001b[1;31mKeyboardInterrupt\u001b[0m: Interrupted by user"
     ]
    }
   ],
   "source": [
    "while True:\n",
    "    inpu=input(\"Enter Word: \")\n",
    "    if inpu==\"quit\":\n",
    "        break\n",
    "        \n",
    "    meaning=words.get(inpu)    \n",
    "    if inpu is not None:\n",
    "        print(inpu+\" \"+meaning)\n",
    "        \n",
    "    else:\n",
    "        print(\"word is not present\")"
   ]
  },
  {
   "cell_type": "code",
   "execution_count": 79,
   "metadata": {},
   "outputs": [
    {
     "name": "stdout",
     "output_type": "stream",
     "text": [
      "Enter Word: tr\n",
      "tr not found\n",
      "Enter Word: tr\n",
      "tr not found\n",
      "Enter Word: ty\n",
      "ty not found\n",
      "Enter Word: tr\n",
      "tr not found\n",
      "Enter Word: cv\n",
      "cv not found\n",
      "Enter Word: cf\n",
      "cf not found\n",
      "Enter Word: quit\n"
     ]
    }
   ],
   "source": [
    "while True:\n",
    "    inpu=input(\"Enter Word: \")\n",
    "    if inpu==\"quit\":\n",
    "        break\n",
    "    meaning=words.get(inpu,\"not found\")    \n",
    "    print(inpu+\" \"+meaning)"
   ]
  },
  {
   "cell_type": "code",
   "execution_count": 74,
   "metadata": {},
   "outputs": [
    {
     "name": "stdout",
     "output_type": "stream",
     "text": [
      "one who know everything\n",
      "sound cant be heard\n",
      "one who present everywhere\n",
      " \n",
      "one who know everything\n",
      "sound cant be heard\n",
      "one who present everywhere\n",
      " \n",
      "one who know everything\n",
      "sound cant be heard\n",
      "one who present everywhere\n",
      " \n",
      "one who know everything\n",
      "sound cant be heard\n",
      "one who present everywhere\n",
      " \n",
      "one who know everything\n",
      "sound cant be heard\n",
      "one who present everywhere\n",
      " \n",
      "one who know everything\n",
      "sound cant be heard\n",
      "one who present everywhere\n",
      " \n",
      "one who know everything\n",
      "sound cant be heard\n",
      "one who present everywhere\n",
      " \n",
      "one who know everything\n",
      "sound cant be heard\n",
      "one who present everywhere\n",
      " \n",
      "one who know everything\n",
      "sound cant be heard\n",
      "one who present everywhere\n",
      " \n",
      "one who know everything\n",
      "sound cant be heard\n",
      "one who present everywhere\n",
      " \n"
     ]
    }
   ],
   "source": [
    "for i in range(10):\n",
    "    for word in words:\n",
    "        print(words[word])\n",
    "    print(\" \")"
   ]
  },
  {
   "cell_type": "code",
   "execution_count": 6,
   "metadata": {},
   "outputs": [],
   "source": [
    "words={'democracy':'a gov by people','ominicent':'one who know everything','inaudible':'sound cant be heard'}\n",
    "order=sorted(words.values())"
   ]
  },
  {
   "cell_type": "code",
   "execution_count": 7,
   "metadata": {},
   "outputs": [
    {
     "data": {
      "text/plain": [
       "['a gov by people', 'one who know everything', 'sound cant be heard']"
      ]
     },
     "execution_count": 7,
     "metadata": {},
     "output_type": "execute_result"
    }
   ],
   "source": [
    "order"
   ]
  },
  {
   "cell_type": "code",
   "execution_count": 8,
   "metadata": {},
   "outputs": [
    {
     "data": {
      "text/plain": [
       "['democracy', 'inaudible', 'ominicent']"
      ]
     },
     "execution_count": 8,
     "metadata": {},
     "output_type": "execute_result"
    }
   ],
   "source": [
    "ord=sorted(words.keys())\n",
    "ord"
   ]
  },
  {
   "cell_type": "code",
   "execution_count": 9,
   "metadata": {},
   "outputs": [
    {
     "data": {
      "text/plain": [
       "dict_items([('democracy', 'a gov by people'), ('ominicent', 'one who know everything'), ('inaudible', 'sound cant be heard')])"
      ]
     },
     "execution_count": 9,
     "metadata": {},
     "output_type": "execute_result"
    }
   ],
   "source": [
    "words.items()"
   ]
  },
  {
   "cell_type": "code",
   "execution_count": 11,
   "metadata": {},
   "outputs": [],
   "source": [
    "tp=tuple(words.items())"
   ]
  },
  {
   "cell_type": "code",
   "execution_count": 12,
   "metadata": {},
   "outputs": [
    {
     "data": {
      "text/plain": [
       "(('democracy', 'a gov by people'),\n",
       " ('ominicent', 'one who know everything'),\n",
       " ('inaudible', 'sound cant be heard'))"
      ]
     },
     "execution_count": 12,
     "metadata": {},
     "output_type": "execute_result"
    }
   ],
   "source": [
    "tp"
   ]
  },
  {
   "cell_type": "code",
   "execution_count": 15,
   "metadata": {},
   "outputs": [
    {
     "name": "stdout",
     "output_type": "stream",
     "text": [
      "('democracy', 'a gov by people')\n",
      "('ominicent', 'one who know everything')\n",
      "('inaudible', 'sound cant be heard')\n"
     ]
    }
   ],
   "source": [
    "for i in tp:\n",
    "    print(i)"
   ]
  },
  {
   "cell_type": "code",
   "execution_count": 16,
   "metadata": {},
   "outputs": [],
   "source": [
    "string1='123454566'\n",
    "nw=','.join(string1)"
   ]
  },
  {
   "cell_type": "code",
   "execution_count": 17,
   "metadata": {},
   "outputs": [
    {
     "data": {
      "text/plain": [
       "'1,2,3,4,5,4,5,6,6'"
      ]
     },
     "execution_count": 17,
     "metadata": {},
     "output_type": "execute_result"
    }
   ],
   "source": [
    "nw"
   ]
  },
  {
   "cell_type": "code",
   "execution_count": 20,
   "metadata": {},
   "outputs": [],
   "source": [
    "ls=['a','b','c','d']\n",
    "nw=''.join(ls)"
   ]
  },
  {
   "cell_type": "code",
   "execution_count": 21,
   "metadata": {},
   "outputs": [
    {
     "data": {
      "text/plain": [
       "'abcd'"
      ]
     },
     "execution_count": 21,
     "metadata": {},
     "output_type": "execute_result"
    }
   ],
   "source": [
    "nw"
   ]
  },
  {
   "cell_type": "code",
   "execution_count": 23,
   "metadata": {},
   "outputs": [],
   "source": [
    "words={'democracy':'a gov by people','ominicent':'one who know everything','inaudible':'sound cant be heard'}\n",
    "python={'tkinter':'a desktop development framework','django':'a web development framework'}"
   ]
  },
  {
   "cell_type": "code",
   "execution_count": 24,
   "metadata": {},
   "outputs": [
    {
     "data": {
      "text/plain": [
       "{'democracy': 'a gov by people',\n",
       " 'ominicent': 'one who know everything',\n",
       " 'inaudible': 'sound cant be heard',\n",
       " 'tkinter': 'a desktop development framework',\n",
       " 'django': 'a web development framework'}"
      ]
     },
     "execution_count": 24,
     "metadata": {},
     "output_type": "execute_result"
    }
   ],
   "source": [
    "words.update(python)\n",
    "words"
   ]
  },
  {
   "cell_type": "markdown",
   "metadata": {},
   "source": [
    "# Set"
   ]
  },
  {
   "cell_type": "code",
   "execution_count": 25,
   "metadata": {},
   "outputs": [],
   "source": [
    "set1={'India','America','Pakistan','Autralia'}\n",
    "set2=set(['Punjab','kerela','UP'])\n",
    "set3=set(['Tkinter','Django','PyQt5'])\n",
    "\n",
    "set4=set(range(0,20,2))"
   ]
  },
  {
   "cell_type": "code",
   "execution_count": 26,
   "metadata": {},
   "outputs": [
    {
     "data": {
      "text/plain": [
       "{'America', 'Autralia', 'India', 'Pakistan'}"
      ]
     },
     "execution_count": 26,
     "metadata": {},
     "output_type": "execute_result"
    }
   ],
   "source": [
    "set1"
   ]
  },
  {
   "cell_type": "code",
   "execution_count": 27,
   "metadata": {},
   "outputs": [
    {
     "data": {
      "text/plain": [
       "{'Punjab', 'UP', 'kerela'}"
      ]
     },
     "execution_count": 27,
     "metadata": {},
     "output_type": "execute_result"
    }
   ],
   "source": [
    "set2"
   ]
  },
  {
   "cell_type": "code",
   "execution_count": 28,
   "metadata": {},
   "outputs": [
    {
     "data": {
      "text/plain": [
       "{'Django', 'PyQt5', 'Tkinter'}"
      ]
     },
     "execution_count": 28,
     "metadata": {},
     "output_type": "execute_result"
    }
   ],
   "source": [
    "set3"
   ]
  },
  {
   "cell_type": "code",
   "execution_count": 29,
   "metadata": {},
   "outputs": [
    {
     "data": {
      "text/plain": [
       "{0, 2, 4, 6, 8, 10, 12, 14, 16, 18}"
      ]
     },
     "execution_count": 29,
     "metadata": {},
     "output_type": "execute_result"
    }
   ],
   "source": [
    "set4"
   ]
  },
  {
   "cell_type": "code",
   "execution_count": 33,
   "metadata": {},
   "outputs": [
    {
     "name": "stdout",
     "output_type": "stream",
     "text": [
      "America\n",
      "Autralia\n",
      "India\n",
      "Pakistan\n"
     ]
    }
   ],
   "source": [
    "for i in set1:\n",
    "    print(i)"
   ]
  },
  {
   "cell_type": "code",
   "execution_count": 35,
   "metadata": {},
   "outputs": [
    {
     "data": {
      "text/plain": [
       "{'America', 'Autralia', 'India', 'Pakistan', 'afganishtan'}"
      ]
     },
     "execution_count": 35,
     "metadata": {},
     "output_type": "execute_result"
    }
   ],
   "source": [
    "set1.add('afganishtan')\n",
    "set1\n"
   ]
  },
  {
   "cell_type": "code",
   "execution_count": 47,
   "metadata": {},
   "outputs": [
    {
     "data": {
      "text/plain": [
       "5"
      ]
     },
     "execution_count": 47,
     "metadata": {},
     "output_type": "execute_result"
    }
   ],
   "source": [
    "l=len(set1)\n",
    "l"
   ]
  },
  {
   "cell_type": "code",
   "execution_count": 51,
   "metadata": {},
   "outputs": [
    {
     "data": {
      "text/plain": [
       "{'America',\n",
       " 'Autralia',\n",
       " 'India',\n",
       " 'Pakistan',\n",
       " 'Punjab',\n",
       " 'UP',\n",
       " 'afganishtan',\n",
       " 'kerela'}"
      ]
     },
     "execution_count": 51,
     "metadata": {},
     "output_type": "execute_result"
    }
   ],
   "source": [
    "u=set1.union(set2)\n",
    "u"
   ]
  },
  {
   "cell_type": "code",
   "execution_count": 53,
   "metadata": {},
   "outputs": [
    {
     "data": {
      "text/plain": [
       "set()"
      ]
     },
     "execution_count": 53,
     "metadata": {},
     "output_type": "execute_result"
    }
   ],
   "source": [
    "i=set1.intersection(set2)\n",
    "i"
   ]
  },
  {
   "cell_type": "code",
   "execution_count": 65,
   "metadata": {},
   "outputs": [
    {
     "data": {
      "text/plain": [
       "{0, 5, 6, 8}"
      ]
     },
     "execution_count": 65,
     "metadata": {},
     "output_type": "execute_result"
    }
   ],
   "source": [
    "set1={2,3,4,5.6,7}\n",
    "set2={3,5,8,0,6,4}\n",
    "\n",
    "set2-set1"
   ]
  },
  {
   "cell_type": "code",
   "execution_count": 66,
   "metadata": {},
   "outputs": [
    {
     "data": {
      "text/plain": [
       "{0, 5, 6, 8}"
      ]
     },
     "execution_count": 66,
     "metadata": {},
     "output_type": "execute_result"
    }
   ],
   "source": [
    "set2.difference(set1)"
   ]
  },
  {
   "cell_type": "code",
   "execution_count": 67,
   "metadata": {},
   "outputs": [
    {
     "data": {
      "text/plain": [
       "{0, 2, 5, 5.6, 6, 7, 8}"
      ]
     },
     "execution_count": 67,
     "metadata": {},
     "output_type": "execute_result"
    }
   ],
   "source": [
    "set2.symmetric_difference(set1)"
   ]
  },
  {
   "cell_type": "code",
   "execution_count": 68,
   "metadata": {},
   "outputs": [
    {
     "data": {
      "text/plain": [
       "{3, 4, 5.6, 7}"
      ]
     },
     "execution_count": 68,
     "metadata": {},
     "output_type": "execute_result"
    }
   ],
   "source": [
    "set1.remove(2)\n",
    "set1"
   ]
  },
  {
   "cell_type": "code",
   "execution_count": 69,
   "metadata": {},
   "outputs": [
    {
     "data": {
      "text/plain": [
       "{3, 5.6, 7}"
      ]
     },
     "execution_count": 69,
     "metadata": {},
     "output_type": "execute_result"
    }
   ],
   "source": [
    "set1.discard(4)\n",
    "set1"
   ]
  },
  {
   "cell_type": "code",
   "execution_count": 72,
   "metadata": {},
   "outputs": [
    {
     "data": {
      "text/plain": [
       "True"
      ]
     },
     "execution_count": 72,
     "metadata": {},
     "output_type": "execute_result"
    }
   ],
   "source": [
    "set1={4,6,8,9,6}\n",
    "set2={4,6}\n",
    "\n",
    "set1.issuperset(set2)"
   ]
  },
  {
   "cell_type": "code",
   "execution_count": 73,
   "metadata": {},
   "outputs": [
    {
     "data": {
      "text/plain": [
       "True"
      ]
     },
     "execution_count": 73,
     "metadata": {},
     "output_type": "execute_result"
    }
   ],
   "source": [
    "set2.issubset(set1)"
   ]
  },
  {
   "cell_type": "code",
   "execution_count": 97,
   "metadata": {},
   "outputs": [
    {
     "data": {
      "text/plain": [
       "frozenset({23, 24, 25, 26, 27})"
      ]
     },
     "execution_count": 97,
     "metadata": {},
     "output_type": "execute_result"
    }
   ],
   "source": [
    "set5=frozenset({23,24,25,26,27})\n",
    "set5"
   ]
  },
  {
   "cell_type": "code",
   "execution_count": 103,
   "metadata": {},
   "outputs": [
    {
     "name": "stdout",
     "output_type": "stream",
     "text": [
      "Enter some text: python is\n"
     ]
    },
    {
     "ename": "TypeError",
     "evalue": "'tuple' object is not callable",
     "output_type": "error",
     "traceback": [
      "\u001b[1;31m---------------------------------------------------------------------------\u001b[0m",
      "\u001b[1;31mTypeError\u001b[0m                                 Traceback (most recent call last)",
      "\u001b[1;32m<ipython-input-103-726fbff18912>\u001b[0m in \u001b[0;36m<module>\u001b[1;34m\u001b[0m\n\u001b[1;32m----> 1\u001b[1;33m \u001b[0muser\u001b[0m\u001b[1;33m=\u001b[0m\u001b[0mset\u001b[0m\u001b[1;33m(\u001b[0m\u001b[0minput\u001b[0m\u001b[1;33m(\u001b[0m\u001b[1;34m\"Enter some text: \"\u001b[0m\u001b[1;33m)\u001b[0m\u001b[1;33m)\u001b[0m\u001b[1;33m\u001b[0m\u001b[1;33m\u001b[0m\u001b[0m\n\u001b[0m\u001b[0;32m      2\u001b[0m \u001b[0mvowels\u001b[0m\u001b[1;33m=\u001b[0m\u001b[0mfrozenset\u001b[0m\u001b[1;33m(\u001b[0m\u001b[1;34m\"aeiou\"\u001b[0m\u001b[1;33m)\u001b[0m\u001b[1;33m\u001b[0m\u001b[1;33m\u001b[0m\u001b[0m\n\u001b[0;32m      3\u001b[0m \u001b[0mfinal\u001b[0m\u001b[1;33m=\u001b[0m\u001b[0muser\u001b[0m\u001b[1;33m-\u001b[0m\u001b[0mvowels\u001b[0m\u001b[1;33m\u001b[0m\u001b[1;33m\u001b[0m\u001b[0m\n\u001b[0;32m      4\u001b[0m \u001b[0mprint\u001b[0m\u001b[1;33m(\u001b[0m\u001b[0mfinal\u001b[0m\u001b[1;33m)\u001b[0m\u001b[1;33m\u001b[0m\u001b[1;33m\u001b[0m\u001b[0m\n",
      "\u001b[1;31mTypeError\u001b[0m: 'tuple' object is not callable"
     ]
    }
   ],
   "source": [
    "user=set(input(\"Enter some text: \"))\n",
    "vowels=frozenset(\"aeiou\")\n",
    "final=user-vowels\n",
    "print(final)"
   ]
  },
  {
   "cell_type": "code",
   "execution_count": 99,
   "metadata": {},
   "outputs": [
    {
     "data": {
      "text/plain": [
       "['welcome']"
      ]
     },
     "execution_count": 99,
     "metadata": {},
     "output_type": "execute_result"
    }
   ],
   "source": [
    "lis=[\"welcome\"]\n",
    "lis"
   ]
  },
  {
   "cell_type": "code",
   "execution_count": 100,
   "metadata": {},
   "outputs": [
    {
     "data": {
      "text/plain": [
       "list"
      ]
     },
     "execution_count": 100,
     "metadata": {},
     "output_type": "execute_result"
    }
   ],
   "source": [
    "type(lis)"
   ]
  },
  {
   "cell_type": "markdown",
   "metadata": {},
   "source": [
    "# Reading file"
   ]
  },
  {
   "cell_type": "code",
   "execution_count": 110,
   "metadata": {},
   "outputs": [
    {
     "data": {
      "text/plain": [
       "<_io.TextIOWrapper name='C:/Users/Mypc/Desktop/Anshu.txt' mode='r' encoding='cp1252'>"
      ]
     },
     "execution_count": 110,
     "metadata": {},
     "output_type": "execute_result"
    }
   ],
   "source": [
    "samp=open('C:/Users/Mypc/Desktop/Anshu.txt','r')\n",
    "samp"
   ]
  },
  {
   "cell_type": "code",
   "execution_count": 111,
   "metadata": {},
   "outputs": [
    {
     "name": "stdout",
     "output_type": "stream",
     "text": [
      "Hi my name is Anshuman\n",
      "\n",
      "Hi my name is Anshuman\n",
      "\n",
      "Hi my name is Anshuman\n",
      "\n",
      "Hi my name is Anshuman\n",
      "\n",
      "Hi my name is Anshuman\n",
      "\n",
      "Hi my name is Anshuman\n",
      "\n",
      "Hi my name is Anshuman\n",
      "\n",
      "Hi my name is Anshuman\n",
      "\n",
      "Hi my name is Anshuman\n"
     ]
    }
   ],
   "source": [
    "for i in samp:\n",
    "    print(i)\n",
    "samp.close()"
   ]
  },
  {
   "cell_type": "code",
   "execution_count": 114,
   "metadata": {},
   "outputs": [
    {
     "name": "stdout",
     "output_type": "stream",
     "text": [
      "Hi my name is Anshuman\n",
      "Hi my name is Anshuman\n",
      "Hi my name is Anshuman\n",
      "Hi my name is Anshuman\n",
      "Hi my name is Anshuman\n",
      "Hi my name is Anshuman\n",
      "Hi my name is Anshuman\n",
      "Hi my name is Anshuman\n",
      "Hi my name is Anshuman"
     ]
    }
   ],
   "source": [
    "with open(\"C:/Users/Mypc/Desktop/Knowledge Shell/Anshu.txt\",\"r\") as smp:\n",
    "    for i in smp:\n",
    "        print(i,end='')"
   ]
  },
  {
   "cell_type": "code",
   "execution_count": 123,
   "metadata": {},
   "outputs": [],
   "source": [
    "cities=['Barelli','Shahjanpur','Agra','Dehradun']\n",
    "with open(\"C:/Users/Mypc/Desktop/Knowledge Shell/cities.txt\",\"w\") as city_text:\n",
    "    for city in cities:\n",
    "        print(city,file=city_text)"
   ]
  },
  {
   "cell_type": "code",
   "execution_count": 128,
   "metadata": {},
   "outputs": [],
   "source": [
    "import pickle\n",
    "\n",
    "singer=(\"Dino James\",27,((1,'Thanks a lot'),(2,\"Hankook\")))\n",
    "\n",
    "with open(\"binary.pickle\",\"bw\") as pickle_file:\n",
    "    pickle.dump(singer,pickle_file)"
   ]
  },
  {
   "cell_type": "code",
   "execution_count": 129,
   "metadata": {},
   "outputs": [],
   "source": [
    "with open(\"binary.pickle\",\"br\") as pickle_file:\n",
    "    fav_singer=pickle.load(pickle_file)"
   ]
  },
  {
   "cell_type": "code",
   "execution_count": 130,
   "metadata": {},
   "outputs": [],
   "source": [
    "name,age,tracks=fav_singer"
   ]
  },
  {
   "cell_type": "markdown",
   "metadata": {},
   "source": [
    "# Module"
   ]
  },
  {
   "cell_type": "code",
   "execution_count": 4,
   "metadata": {},
   "outputs": [],
   "source": [
    "import time"
   ]
  },
  {
   "cell_type": "code",
   "execution_count": 6,
   "metadata": {},
   "outputs": [
    {
     "name": "stdout",
     "output_type": "stream",
     "text": [
      "Hello\n",
      "byu\n"
     ]
    }
   ],
   "source": [
    "print(\"Hello\")\n",
    "time.sleep(5)\n",
    "print(\"byu\")"
   ]
  },
  {
   "cell_type": "code",
   "execution_count": 8,
   "metadata": {},
   "outputs": [
    {
     "name": "stdout",
     "output_type": "stream",
     "text": [
      "Note: you may need to restart the kernel to use updated packages.\n"
     ]
    },
    {
     "name": "stderr",
     "output_type": "stream",
     "text": [
      "WARNING: Retrying (Retry(total=4, connect=None, read=None, redirect=None, status=None)) after connection broken by 'NewConnectionError('<pip._vendor.urllib3.connection.HTTPSConnection object at 0x04EF88B0>: Failed to establish a new connection: [Errno 11001] getaddrinfo failed')': /simple/wikipedia/\n",
      "WARNING: Retrying (Retry(total=3, connect=None, read=None, redirect=None, status=None)) after connection broken by 'NewConnectionError('<pip._vendor.urllib3.connection.HTTPSConnection object at 0x044F4DF0>: Failed to establish a new connection: [Errno 11001] getaddrinfo failed')': /simple/wikipedia/\n",
      "WARNING: Retrying (Retry(total=2, connect=None, read=None, redirect=None, status=None)) after connection broken by 'NewConnectionError('<pip._vendor.urllib3.connection.HTTPSConnection object at 0x04EFAFA0>: Failed to establish a new connection: [Errno 11001] getaddrinfo failed')': /simple/wikipedia/\n",
      "WARNING: Retrying (Retry(total=1, connect=None, read=None, redirect=None, status=None)) after connection broken by 'NewConnectionError('<pip._vendor.urllib3.connection.HTTPSConnection object at 0x04EFAEB0>: Failed to establish a new connection: [Errno 11001] getaddrinfo failed')': /simple/wikipedia/\n",
      "WARNING: Retrying (Retry(total=0, connect=None, read=None, redirect=None, status=None)) after connection broken by 'NewConnectionError('<pip._vendor.urllib3.connection.HTTPSConnection object at 0x04EFAC70>: Failed to establish a new connection: [Errno 11001] getaddrinfo failed')': /simple/wikipedia/\n",
      "ERROR: Could not find a version that satisfies the requirement wikipedia (from versions: none)\n",
      "ERROR: No matching distribution found for wikipedia\n"
     ]
    }
   ],
   "source": [
    "pip install wikipedia"
   ]
  },
  {
   "cell_type": "code",
   "execution_count": 10,
   "metadata": {},
   "outputs": [
    {
     "ename": "ModuleNotFoundError",
     "evalue": "No module named 'wikipedia'",
     "output_type": "error",
     "traceback": [
      "\u001b[1;31m---------------------------------------------------------------------------\u001b[0m",
      "\u001b[1;31mModuleNotFoundError\u001b[0m                       Traceback (most recent call last)",
      "\u001b[1;32m<ipython-input-10-3bd432ee69f2>\u001b[0m in \u001b[0;36m<module>\u001b[1;34m\u001b[0m\n\u001b[1;32m----> 1\u001b[1;33m \u001b[1;32mimport\u001b[0m \u001b[0mwikipedia\u001b[0m\u001b[1;33m\u001b[0m\u001b[1;33m\u001b[0m\u001b[0m\n\u001b[0m\u001b[0;32m      2\u001b[0m \u001b[0mdetail\u001b[0m\u001b[1;33m=\u001b[0m\u001b[0mwikipedia\u001b[0m\u001b[1;33m.\u001b[0m\u001b[0msummary\u001b[0m\u001b[1;33m(\u001b[0m\u001b[0mgoogle\u001b[0m\u001b[1;33m)\u001b[0m\u001b[1;33m\u001b[0m\u001b[1;33m\u001b[0m\u001b[0m\n\u001b[0;32m      3\u001b[0m \u001b[0mprint\u001b[0m\u001b[1;33m(\u001b[0m\u001b[0mdetail\u001b[0m\u001b[1;33m)\u001b[0m\u001b[1;33m\u001b[0m\u001b[1;33m\u001b[0m\u001b[0m\n",
      "\u001b[1;31mModuleNotFoundError\u001b[0m: No module named 'wikipedia'"
     ]
    }
   ],
   "source": [
    "import wikipedia\n",
    "detail=wikipedia.summary(google)\n",
    "print(detail)"
   ]
  },
  {
   "cell_type": "code",
   "execution_count": 11,
   "metadata": {},
   "outputs": [],
   "source": [
    "# import music"
   ]
  },
  {
   "cell_type": "code",
   "execution_count": 17,
   "metadata": {},
   "outputs": [
    {
     "name": "stdout",
     "output_type": "stream",
     "text": [
      "['In', 'Out', '_', '__', '___', '__builtin__', '__builtins__', '__doc__', '__loader__', '__name__', '__package__', '__spec__', '_dh', '_exit_code', '_i', '_i1', '_i10', '_i11', '_i12', '_i13', '_i14', '_i15', '_i16', '_i17', '_i2', '_i3', '_i4', '_i5', '_i6', '_i7', '_i8', '_i9', '_ih', '_ii', '_iii', '_oh', 'exit', 'get_ipython', 'get_notebook_slug', 'i', 'jovian', 'l', 'quit', 'time']\n"
     ]
    }
   ],
   "source": [
    "print(dir())"
   ]
  },
  {
   "cell_type": "code",
   "execution_count": 19,
   "metadata": {},
   "outputs": [
    {
     "name": "stdout",
     "output_type": "stream",
     "text": [
      "ArithmeticError\n",
      "AssertionError\n",
      "AttributeError\n",
      "BaseException\n",
      "BlockingIOError\n",
      "BrokenPipeError\n",
      "BufferError\n",
      "BytesWarning\n",
      "ChildProcessError\n",
      "ConnectionAbortedError\n",
      "ConnectionError\n",
      "ConnectionRefusedError\n",
      "ConnectionResetError\n",
      "DeprecationWarning\n",
      "EOFError\n",
      "Ellipsis\n",
      "EnvironmentError\n",
      "Exception\n",
      "False\n",
      "FileExistsError\n",
      "FileNotFoundError\n",
      "FloatingPointError\n",
      "FutureWarning\n",
      "GeneratorExit\n",
      "IOError\n",
      "ImportError\n",
      "ImportWarning\n",
      "IndentationError\n",
      "IndexError\n",
      "InterruptedError\n",
      "IsADirectoryError\n",
      "KeyError\n",
      "KeyboardInterrupt\n",
      "LookupError\n",
      "MemoryError\n",
      "ModuleNotFoundError\n",
      "NameError\n",
      "None\n",
      "NotADirectoryError\n",
      "NotImplemented\n",
      "NotImplementedError\n",
      "OSError\n",
      "OverflowError\n",
      "PendingDeprecationWarning\n",
      "PermissionError\n",
      "ProcessLookupError\n",
      "RecursionError\n",
      "ReferenceError\n",
      "ResourceWarning\n",
      "RuntimeError\n",
      "RuntimeWarning\n",
      "StopAsyncIteration\n",
      "StopIteration\n",
      "SyntaxError\n",
      "SyntaxWarning\n",
      "SystemError\n",
      "SystemExit\n",
      "TabError\n",
      "TimeoutError\n",
      "True\n",
      "TypeError\n",
      "UnboundLocalError\n",
      "UnicodeDecodeError\n",
      "UnicodeEncodeError\n",
      "UnicodeError\n",
      "UnicodeTranslateError\n",
      "UnicodeWarning\n",
      "UserWarning\n",
      "ValueError\n",
      "Warning\n",
      "WindowsError\n",
      "ZeroDivisionError\n",
      "__IPYTHON__\n",
      "__build_class__\n",
      "__debug__\n",
      "__doc__\n",
      "__import__\n",
      "__loader__\n",
      "__name__\n",
      "__package__\n",
      "__spec__\n",
      "abs\n",
      "all\n",
      "any\n",
      "ascii\n",
      "bin\n",
      "bool\n",
      "breakpoint\n",
      "bytearray\n",
      "bytes\n",
      "callable\n",
      "chr\n",
      "classmethod\n",
      "compile\n",
      "complex\n",
      "copyright\n",
      "credits\n",
      "delattr\n",
      "dict\n",
      "dir\n",
      "display\n",
      "divmod\n",
      "enumerate\n",
      "eval\n",
      "exec\n",
      "filter\n",
      "float\n",
      "format\n",
      "frozenset\n",
      "get_ipython\n",
      "getattr\n",
      "globals\n",
      "hasattr\n",
      "hash\n",
      "help\n",
      "hex\n",
      "id\n",
      "input\n",
      "int\n",
      "isinstance\n",
      "issubclass\n",
      "iter\n",
      "len\n",
      "license\n",
      "list\n",
      "locals\n",
      "map\n",
      "max\n",
      "memoryview\n",
      "min\n",
      "next\n",
      "object\n",
      "oct\n",
      "open\n",
      "ord\n",
      "pow\n",
      "print\n",
      "property\n",
      "range\n",
      "repr\n",
      "reversed\n",
      "round\n",
      "set\n",
      "setattr\n",
      "slice\n",
      "sorted\n",
      "staticmethod\n",
      "str\n",
      "sum\n",
      "super\n",
      "tuple\n",
      "type\n",
      "vars\n",
      "zip\n"
     ]
    }
   ],
   "source": [
    "for i in dir(__builtin__):\n",
    "    print(i)"
   ]
  },
  {
   "cell_type": "code",
   "execution_count": 23,
   "metadata": {},
   "outputs": [
    {
     "name": "stdout",
     "output_type": "stream",
     "text": [
      "BPF\n",
      "LOG4\n",
      "NV_MAGICCONST\n",
      "RECIP_BPF\n",
      "Random\n",
      "SG_MAGICCONST\n",
      "SystemRandom\n",
      "TWOPI\n",
      "_Sequence\n",
      "_Set\n",
      "__all__\n",
      "__builtins__\n",
      "__cached__\n",
      "__doc__\n",
      "__file__\n",
      "__loader__\n",
      "__name__\n",
      "__package__\n",
      "__spec__\n",
      "_accumulate\n",
      "_acos\n",
      "_bisect\n",
      "_ceil\n",
      "_cos\n",
      "_e\n",
      "_exp\n",
      "_inst\n",
      "_log\n",
      "_os\n",
      "_pi\n",
      "_random\n",
      "_repeat\n",
      "_sha512\n",
      "_sin\n",
      "_sqrt\n",
      "_test\n",
      "_test_generator\n",
      "_urandom\n",
      "_warn\n",
      "betavariate\n",
      "choice\n",
      "choices\n",
      "expovariate\n",
      "gammavariate\n",
      "gauss\n",
      "getrandbits\n",
      "getstate\n",
      "lognormvariate\n",
      "normalvariate\n",
      "paretovariate\n",
      "randint\n",
      "random\n",
      "randrange\n",
      "sample\n",
      "seed\n",
      "setstate\n",
      "shuffle\n",
      "triangular\n",
      "uniform\n",
      "vonmisesvariate\n",
      "weibullvariate\n"
     ]
    }
   ],
   "source": [
    "import random\n",
    "for i in dir(random):\n",
    "    print(i)"
   ]
  },
  {
   "cell_type": "code",
   "execution_count": 24,
   "metadata": {},
   "outputs": [
    {
     "name": "stdout",
     "output_type": "stream",
     "text": [
      "Help on module random:\n",
      "\n",
      "NAME\n",
      "    random - Random variable generators.\n",
      "\n",
      "MODULE REFERENCE\n",
      "    https://docs.python.org/3.8/library/random\n",
      "    \n",
      "    The following documentation is automatically generated from the Python\n",
      "    source files.  It may be incomplete, incorrect or include features that\n",
      "    are considered implementation detail and may vary between Python\n",
      "    implementations.  When in doubt, consult the module reference at the\n",
      "    location listed above.\n",
      "\n",
      "DESCRIPTION\n",
      "        integers\n",
      "        --------\n",
      "               uniform within range\n",
      "    \n",
      "        sequences\n",
      "        ---------\n",
      "               pick random element\n",
      "               pick random sample\n",
      "               pick weighted random sample\n",
      "               generate random permutation\n",
      "    \n",
      "        distributions on the real line:\n",
      "        ------------------------------\n",
      "               uniform\n",
      "               triangular\n",
      "               normal (Gaussian)\n",
      "               lognormal\n",
      "               negative exponential\n",
      "               gamma\n",
      "               beta\n",
      "               pareto\n",
      "               Weibull\n",
      "    \n",
      "        distributions on the circle (angles 0 to 2pi)\n",
      "        ---------------------------------------------\n",
      "               circular uniform\n",
      "               von Mises\n",
      "    \n",
      "    General notes on the underlying Mersenne Twister core generator:\n",
      "    \n",
      "    * The period is 2**19937-1.\n",
      "    * It is one of the most extensively tested generators in existence.\n",
      "    * The random() method is implemented in C, executes in a single Python step,\n",
      "      and is, therefore, threadsafe.\n",
      "\n",
      "CLASSES\n",
      "    _random.Random(builtins.object)\n",
      "        Random\n",
      "            SystemRandom\n",
      "    \n",
      "    class Random(_random.Random)\n",
      "     |  Random(x=None)\n",
      "     |  \n",
      "     |  Random number generator base class used by bound module functions.\n",
      "     |  \n",
      "     |  Used to instantiate instances of Random to get generators that don't\n",
      "     |  share state.\n",
      "     |  \n",
      "     |  Class Random can also be subclassed if you want to use a different basic\n",
      "     |  generator of your own devising: in that case, override the following\n",
      "     |  methods:  random(), seed(), getstate(), and setstate().\n",
      "     |  Optionally, implement a getrandbits() method so that randrange()\n",
      "     |  can cover arbitrarily large ranges.\n",
      "     |  \n",
      "     |  Method resolution order:\n",
      "     |      Random\n",
      "     |      _random.Random\n",
      "     |      builtins.object\n",
      "     |  \n",
      "     |  Methods defined here:\n",
      "     |  \n",
      "     |  __getstate__(self)\n",
      "     |      # Issue 17489: Since __reduce__ was defined to fix #759889 this is no\n",
      "     |      # longer called; we leave it here because it has been here since random was\n",
      "     |      # rewritten back in 2001 and why risk breaking something.\n",
      "     |  \n",
      "     |  __init__(self, x=None)\n",
      "     |      Initialize an instance.\n",
      "     |      \n",
      "     |      Optional argument x controls seeding, as for Random.seed().\n",
      "     |  \n",
      "     |  __reduce__(self)\n",
      "     |      Helper for pickle.\n",
      "     |  \n",
      "     |  __setstate__(self, state)\n",
      "     |  \n",
      "     |  betavariate(self, alpha, beta)\n",
      "     |      Beta distribution.\n",
      "     |      \n",
      "     |      Conditions on the parameters are alpha > 0 and beta > 0.\n",
      "     |      Returned values range between 0 and 1.\n",
      "     |  \n",
      "     |  choice(self, seq)\n",
      "     |      Choose a random element from a non-empty sequence.\n",
      "     |  \n",
      "     |  choices(self, population, weights=None, *, cum_weights=None, k=1)\n",
      "     |      Return a k sized list of population elements chosen with replacement.\n",
      "     |      \n",
      "     |      If the relative weights or cumulative weights are not specified,\n",
      "     |      the selections are made with equal probability.\n",
      "     |  \n",
      "     |  expovariate(self, lambd)\n",
      "     |      Exponential distribution.\n",
      "     |      \n",
      "     |      lambd is 1.0 divided by the desired mean.  It should be\n",
      "     |      nonzero.  (The parameter would be called \"lambda\", but that is\n",
      "     |      a reserved word in Python.)  Returned values range from 0 to\n",
      "     |      positive infinity if lambd is positive, and from negative\n",
      "     |      infinity to 0 if lambd is negative.\n",
      "     |  \n",
      "     |  gammavariate(self, alpha, beta)\n",
      "     |      Gamma distribution.  Not the gamma function!\n",
      "     |      \n",
      "     |      Conditions on the parameters are alpha > 0 and beta > 0.\n",
      "     |      \n",
      "     |      The probability distribution function is:\n",
      "     |      \n",
      "     |                  x ** (alpha - 1) * math.exp(-x / beta)\n",
      "     |        pdf(x) =  --------------------------------------\n",
      "     |                    math.gamma(alpha) * beta ** alpha\n",
      "     |  \n",
      "     |  gauss(self, mu, sigma)\n",
      "     |      Gaussian distribution.\n",
      "     |      \n",
      "     |      mu is the mean, and sigma is the standard deviation.  This is\n",
      "     |      slightly faster than the normalvariate() function.\n",
      "     |      \n",
      "     |      Not thread-safe without a lock around calls.\n",
      "     |  \n",
      "     |  getstate(self)\n",
      "     |      Return internal state; can be passed to setstate() later.\n",
      "     |  \n",
      "     |  lognormvariate(self, mu, sigma)\n",
      "     |      Log normal distribution.\n",
      "     |      \n",
      "     |      If you take the natural logarithm of this distribution, you'll get a\n",
      "     |      normal distribution with mean mu and standard deviation sigma.\n",
      "     |      mu can have any value, and sigma must be greater than zero.\n",
      "     |  \n",
      "     |  normalvariate(self, mu, sigma)\n",
      "     |      Normal distribution.\n",
      "     |      \n",
      "     |      mu is the mean, and sigma is the standard deviation.\n",
      "     |  \n",
      "     |  paretovariate(self, alpha)\n",
      "     |      Pareto distribution.  alpha is the shape parameter.\n",
      "     |  \n",
      "     |  randint(self, a, b)\n",
      "     |      Return random integer in range [a, b], including both end points.\n",
      "     |  \n",
      "     |  randrange(self, start, stop=None, step=1, _int=<class 'int'>)\n",
      "     |      Choose a random item from range(start, stop[, step]).\n",
      "     |      \n",
      "     |      This fixes the problem with randint() which includes the\n",
      "     |      endpoint; in Python this is usually not what you want.\n",
      "     |  \n",
      "     |  sample(self, population, k)\n",
      "     |      Chooses k unique random elements from a population sequence or set.\n",
      "     |      \n",
      "     |      Returns a new list containing elements from the population while\n",
      "     |      leaving the original population unchanged.  The resulting list is\n",
      "     |      in selection order so that all sub-slices will also be valid random\n",
      "     |      samples.  This allows raffle winners (the sample) to be partitioned\n",
      "     |      into grand prize and second place winners (the subslices).\n",
      "     |      \n",
      "     |      Members of the population need not be hashable or unique.  If the\n",
      "     |      population contains repeats, then each occurrence is a possible\n",
      "     |      selection in the sample.\n",
      "     |      \n",
      "     |      To choose a sample in a range of integers, use range as an argument.\n",
      "     |      This is especially fast and space efficient for sampling from a\n",
      "     |      large population:   sample(range(10000000), 60)\n",
      "     |  \n",
      "     |  seed(self, a=None, version=2)\n",
      "     |      Initialize internal state from hashable object.\n",
      "     |      \n",
      "     |      None or no argument seeds from current time or from an operating\n",
      "     |      system specific randomness source if available.\n",
      "     |      \n",
      "     |      If *a* is an int, all bits are used.\n",
      "     |      \n",
      "     |      For version 2 (the default), all of the bits are used if *a* is a str,\n",
      "     |      bytes, or bytearray.  For version 1 (provided for reproducing random\n",
      "     |      sequences from older versions of Python), the algorithm for str and\n",
      "     |      bytes generates a narrower range of seeds.\n",
      "     |  \n",
      "     |  setstate(self, state)\n",
      "     |      Restore internal state from object returned by getstate().\n",
      "     |  \n",
      "     |  shuffle(self, x, random=None)\n",
      "     |      Shuffle list x in place, and return None.\n",
      "     |      \n",
      "     |      Optional argument random is a 0-argument function returning a\n",
      "     |      random float in [0.0, 1.0); if it is the default None, the\n",
      "     |      standard random.random will be used.\n",
      "     |  \n",
      "     |  triangular(self, low=0.0, high=1.0, mode=None)\n",
      "     |      Triangular distribution.\n",
      "     |      \n",
      "     |      Continuous distribution bounded by given lower and upper limits,\n",
      "     |      and having a given mode value in-between.\n",
      "     |      \n",
      "     |      http://en.wikipedia.org/wiki/Triangular_distribution\n",
      "     |  \n",
      "     |  uniform(self, a, b)\n",
      "     |      Get a random number in the range [a, b) or [a, b] depending on rounding.\n",
      "     |  \n",
      "     |  vonmisesvariate(self, mu, kappa)\n",
      "     |      Circular data distribution.\n",
      "     |      \n",
      "     |      mu is the mean angle, expressed in radians between 0 and 2*pi, and\n",
      "     |      kappa is the concentration parameter, which must be greater than or\n",
      "     |      equal to zero.  If kappa is equal to zero, this distribution reduces\n",
      "     |      to a uniform random angle over the range 0 to 2*pi.\n",
      "     |  \n",
      "     |  weibullvariate(self, alpha, beta)\n",
      "     |      Weibull distribution.\n",
      "     |      \n",
      "     |      alpha is the scale parameter and beta is the shape parameter.\n",
      "     |  \n",
      "     |  ----------------------------------------------------------------------\n",
      "     |  Class methods defined here:\n",
      "     |  \n",
      "     |  __init_subclass__(**kwargs) from builtins.type\n",
      "     |      Control how subclasses generate random integers.\n",
      "     |      \n",
      "     |      The algorithm a subclass can use depends on the random() and/or\n",
      "     |      getrandbits() implementation available to it and determines\n",
      "     |      whether it can generate random integers from arbitrarily large\n",
      "     |      ranges.\n",
      "     |  \n",
      "     |  ----------------------------------------------------------------------\n",
      "     |  Data descriptors defined here:\n",
      "     |  \n",
      "     |  __dict__\n",
      "     |      dictionary for instance variables (if defined)\n",
      "     |  \n",
      "     |  __weakref__\n",
      "     |      list of weak references to the object (if defined)\n",
      "     |  \n",
      "     |  ----------------------------------------------------------------------\n",
      "     |  Data and other attributes defined here:\n",
      "     |  \n",
      "     |  VERSION = 3\n",
      "     |  \n",
      "     |  ----------------------------------------------------------------------\n",
      "     |  Methods inherited from _random.Random:\n",
      "     |  \n",
      "     |  __getattribute__(self, name, /)\n",
      "     |      Return getattr(self, name).\n",
      "     |  \n",
      "     |  getrandbits(self, k, /)\n",
      "     |      getrandbits(k) -> x.  Generates an int with k random bits.\n",
      "     |  \n",
      "     |  random(self, /)\n",
      "     |      random() -> x in the interval [0, 1).\n",
      "     |  \n",
      "     |  ----------------------------------------------------------------------\n",
      "     |  Static methods inherited from _random.Random:\n",
      "     |  \n",
      "     |  __new__(*args, **kwargs) from builtins.type\n",
      "     |      Create and return a new object.  See help(type) for accurate signature.\n",
      "    \n",
      "    class SystemRandom(Random)\n",
      "     |  SystemRandom(x=None)\n",
      "     |  \n",
      "     |  Alternate random number generator using sources provided\n",
      "     |  by the operating system (such as /dev/urandom on Unix or\n",
      "     |  CryptGenRandom on Windows).\n",
      "     |  \n",
      "     |   Not available on all systems (see os.urandom() for details).\n",
      "     |  \n",
      "     |  Method resolution order:\n",
      "     |      SystemRandom\n",
      "     |      Random\n",
      "     |      _random.Random\n",
      "     |      builtins.object\n",
      "     |  \n",
      "     |  Methods defined here:\n",
      "     |  \n",
      "     |  getrandbits(self, k)\n",
      "     |      getrandbits(k) -> x.  Generates an int with k random bits.\n",
      "     |  \n",
      "     |  getstate = _notimplemented(self, *args, **kwds)\n",
      "     |  \n",
      "     |  random(self)\n",
      "     |      Get the next random number in the range [0.0, 1.0).\n",
      "     |  \n",
      "     |  seed(self, *args, **kwds)\n",
      "     |      Stub method.  Not used for a system random number generator.\n",
      "     |  \n",
      "     |  setstate = _notimplemented(self, *args, **kwds)\n",
      "     |  \n",
      "     |  ----------------------------------------------------------------------\n",
      "     |  Methods inherited from Random:\n",
      "     |  \n",
      "     |  __getstate__(self)\n",
      "     |      # Issue 17489: Since __reduce__ was defined to fix #759889 this is no\n",
      "     |      # longer called; we leave it here because it has been here since random was\n",
      "     |      # rewritten back in 2001 and why risk breaking something.\n",
      "     |  \n",
      "     |  __init__(self, x=None)\n",
      "     |      Initialize an instance.\n",
      "     |      \n",
      "     |      Optional argument x controls seeding, as for Random.seed().\n",
      "     |  \n",
      "     |  __reduce__(self)\n",
      "     |      Helper for pickle.\n",
      "     |  \n",
      "     |  __setstate__(self, state)\n",
      "     |  \n",
      "     |  betavariate(self, alpha, beta)\n",
      "     |      Beta distribution.\n",
      "     |      \n",
      "     |      Conditions on the parameters are alpha > 0 and beta > 0.\n",
      "     |      Returned values range between 0 and 1.\n",
      "     |  \n",
      "     |  choice(self, seq)\n",
      "     |      Choose a random element from a non-empty sequence.\n",
      "     |  \n",
      "     |  choices(self, population, weights=None, *, cum_weights=None, k=1)\n",
      "     |      Return a k sized list of population elements chosen with replacement.\n",
      "     |      \n",
      "     |      If the relative weights or cumulative weights are not specified,\n",
      "     |      the selections are made with equal probability.\n",
      "     |  \n",
      "     |  expovariate(self, lambd)\n",
      "     |      Exponential distribution.\n",
      "     |      \n",
      "     |      lambd is 1.0 divided by the desired mean.  It should be\n",
      "     |      nonzero.  (The parameter would be called \"lambda\", but that is\n",
      "     |      a reserved word in Python.)  Returned values range from 0 to\n",
      "     |      positive infinity if lambd is positive, and from negative\n",
      "     |      infinity to 0 if lambd is negative.\n",
      "     |  \n",
      "     |  gammavariate(self, alpha, beta)\n",
      "     |      Gamma distribution.  Not the gamma function!\n",
      "     |      \n",
      "     |      Conditions on the parameters are alpha > 0 and beta > 0.\n",
      "     |      \n",
      "     |      The probability distribution function is:\n",
      "     |      \n",
      "     |                  x ** (alpha - 1) * math.exp(-x / beta)\n",
      "     |        pdf(x) =  --------------------------------------\n",
      "     |                    math.gamma(alpha) * beta ** alpha\n",
      "     |  \n",
      "     |  gauss(self, mu, sigma)\n",
      "     |      Gaussian distribution.\n",
      "     |      \n",
      "     |      mu is the mean, and sigma is the standard deviation.  This is\n",
      "     |      slightly faster than the normalvariate() function.\n",
      "     |      \n",
      "     |      Not thread-safe without a lock around calls.\n",
      "     |  \n",
      "     |  lognormvariate(self, mu, sigma)\n",
      "     |      Log normal distribution.\n",
      "     |      \n",
      "     |      If you take the natural logarithm of this distribution, you'll get a\n",
      "     |      normal distribution with mean mu and standard deviation sigma.\n",
      "     |      mu can have any value, and sigma must be greater than zero.\n",
      "     |  \n",
      "     |  normalvariate(self, mu, sigma)\n",
      "     |      Normal distribution.\n",
      "     |      \n",
      "     |      mu is the mean, and sigma is the standard deviation.\n",
      "     |  \n",
      "     |  paretovariate(self, alpha)\n",
      "     |      Pareto distribution.  alpha is the shape parameter.\n",
      "     |  \n",
      "     |  randint(self, a, b)\n",
      "     |      Return random integer in range [a, b], including both end points.\n",
      "     |  \n",
      "     |  randrange(self, start, stop=None, step=1, _int=<class 'int'>)\n",
      "     |      Choose a random item from range(start, stop[, step]).\n",
      "     |      \n",
      "     |      This fixes the problem with randint() which includes the\n",
      "     |      endpoint; in Python this is usually not what you want.\n",
      "     |  \n",
      "     |  sample(self, population, k)\n",
      "     |      Chooses k unique random elements from a population sequence or set.\n",
      "     |      \n",
      "     |      Returns a new list containing elements from the population while\n",
      "     |      leaving the original population unchanged.  The resulting list is\n",
      "     |      in selection order so that all sub-slices will also be valid random\n",
      "     |      samples.  This allows raffle winners (the sample) to be partitioned\n",
      "     |      into grand prize and second place winners (the subslices).\n",
      "     |      \n",
      "     |      Members of the population need not be hashable or unique.  If the\n",
      "     |      population contains repeats, then each occurrence is a possible\n",
      "     |      selection in the sample.\n",
      "     |      \n",
      "     |      To choose a sample in a range of integers, use range as an argument.\n",
      "     |      This is especially fast and space efficient for sampling from a\n",
      "     |      large population:   sample(range(10000000), 60)\n",
      "     |  \n",
      "     |  shuffle(self, x, random=None)\n",
      "     |      Shuffle list x in place, and return None.\n",
      "     |      \n",
      "     |      Optional argument random is a 0-argument function returning a\n",
      "     |      random float in [0.0, 1.0); if it is the default None, the\n",
      "     |      standard random.random will be used.\n",
      "     |  \n",
      "     |  triangular(self, low=0.0, high=1.0, mode=None)\n",
      "     |      Triangular distribution.\n",
      "     |      \n",
      "     |      Continuous distribution bounded by given lower and upper limits,\n",
      "     |      and having a given mode value in-between.\n",
      "     |      \n",
      "     |      http://en.wikipedia.org/wiki/Triangular_distribution\n",
      "     |  \n",
      "     |  uniform(self, a, b)\n",
      "     |      Get a random number in the range [a, b) or [a, b] depending on rounding.\n",
      "     |  \n",
      "     |  vonmisesvariate(self, mu, kappa)\n",
      "     |      Circular data distribution.\n",
      "     |      \n",
      "     |      mu is the mean angle, expressed in radians between 0 and 2*pi, and\n",
      "     |      kappa is the concentration parameter, which must be greater than or\n",
      "     |      equal to zero.  If kappa is equal to zero, this distribution reduces\n",
      "     |      to a uniform random angle over the range 0 to 2*pi.\n",
      "     |  \n",
      "     |  weibullvariate(self, alpha, beta)\n",
      "     |      Weibull distribution.\n",
      "     |      \n",
      "     |      alpha is the scale parameter and beta is the shape parameter.\n",
      "     |  \n",
      "     |  ----------------------------------------------------------------------\n",
      "     |  Class methods inherited from Random:\n",
      "     |  \n",
      "     |  __init_subclass__(**kwargs) from builtins.type\n",
      "     |      Control how subclasses generate random integers.\n",
      "     |      \n",
      "     |      The algorithm a subclass can use depends on the random() and/or\n",
      "     |      getrandbits() implementation available to it and determines\n",
      "     |      whether it can generate random integers from arbitrarily large\n",
      "     |      ranges.\n",
      "     |  \n",
      "     |  ----------------------------------------------------------------------\n",
      "     |  Data descriptors inherited from Random:\n",
      "     |  \n",
      "     |  __dict__\n",
      "     |      dictionary for instance variables (if defined)\n",
      "     |  \n",
      "     |  __weakref__\n",
      "     |      list of weak references to the object (if defined)\n",
      "     |  \n",
      "     |  ----------------------------------------------------------------------\n",
      "     |  Data and other attributes inherited from Random:\n",
      "     |  \n",
      "     |  VERSION = 3\n",
      "     |  \n",
      "     |  ----------------------------------------------------------------------\n",
      "     |  Methods inherited from _random.Random:\n",
      "     |  \n",
      "     |  __getattribute__(self, name, /)\n",
      "     |      Return getattr(self, name).\n",
      "     |  \n",
      "     |  ----------------------------------------------------------------------\n",
      "     |  Static methods inherited from _random.Random:\n",
      "     |  \n",
      "     |  __new__(*args, **kwargs) from builtins.type\n",
      "     |      Create and return a new object.  See help(type) for accurate signature.\n",
      "\n",
      "FUNCTIONS\n",
      "    betavariate(alpha, beta) method of Random instance\n",
      "        Beta distribution.\n",
      "        \n",
      "        Conditions on the parameters are alpha > 0 and beta > 0.\n",
      "        Returned values range between 0 and 1.\n",
      "    \n",
      "    choice(seq) method of Random instance\n",
      "        Choose a random element from a non-empty sequence.\n",
      "    \n",
      "    choices(population, weights=None, *, cum_weights=None, k=1) method of Random instance\n",
      "        Return a k sized list of population elements chosen with replacement.\n",
      "        \n",
      "        If the relative weights or cumulative weights are not specified,\n",
      "        the selections are made with equal probability.\n",
      "    \n",
      "    expovariate(lambd) method of Random instance\n",
      "        Exponential distribution.\n",
      "        \n",
      "        lambd is 1.0 divided by the desired mean.  It should be\n",
      "        nonzero.  (The parameter would be called \"lambda\", but that is\n",
      "        a reserved word in Python.)  Returned values range from 0 to\n",
      "        positive infinity if lambd is positive, and from negative\n",
      "        infinity to 0 if lambd is negative.\n",
      "    \n",
      "    gammavariate(alpha, beta) method of Random instance\n",
      "        Gamma distribution.  Not the gamma function!\n",
      "        \n",
      "        Conditions on the parameters are alpha > 0 and beta > 0.\n",
      "        \n",
      "        The probability distribution function is:\n",
      "        \n",
      "                    x ** (alpha - 1) * math.exp(-x / beta)\n",
      "          pdf(x) =  --------------------------------------\n",
      "                      math.gamma(alpha) * beta ** alpha\n",
      "    \n",
      "    gauss(mu, sigma) method of Random instance\n",
      "        Gaussian distribution.\n",
      "        \n",
      "        mu is the mean, and sigma is the standard deviation.  This is\n",
      "        slightly faster than the normalvariate() function.\n",
      "        \n",
      "        Not thread-safe without a lock around calls.\n",
      "    \n",
      "    getrandbits(k, /) method of Random instance\n",
      "        getrandbits(k) -> x.  Generates an int with k random bits.\n",
      "    \n",
      "    getstate() method of Random instance\n",
      "        Return internal state; can be passed to setstate() later.\n",
      "    \n",
      "    lognormvariate(mu, sigma) method of Random instance\n",
      "        Log normal distribution.\n",
      "        \n",
      "        If you take the natural logarithm of this distribution, you'll get a\n",
      "        normal distribution with mean mu and standard deviation sigma.\n",
      "        mu can have any value, and sigma must be greater than zero.\n",
      "    \n",
      "    normalvariate(mu, sigma) method of Random instance\n",
      "        Normal distribution.\n",
      "        \n",
      "        mu is the mean, and sigma is the standard deviation.\n",
      "    \n",
      "    paretovariate(alpha) method of Random instance\n",
      "        Pareto distribution.  alpha is the shape parameter.\n",
      "    \n",
      "    randint(a, b) method of Random instance\n",
      "        Return random integer in range [a, b], including both end points.\n",
      "    \n",
      "    random() method of Random instance\n",
      "        random() -> x in the interval [0, 1).\n",
      "    \n",
      "    randrange(start, stop=None, step=1, _int=<class 'int'>) method of Random instance\n",
      "        Choose a random item from range(start, stop[, step]).\n",
      "        \n",
      "        This fixes the problem with randint() which includes the\n",
      "        endpoint; in Python this is usually not what you want.\n",
      "    \n",
      "    sample(population, k) method of Random instance\n",
      "        Chooses k unique random elements from a population sequence or set.\n",
      "        \n",
      "        Returns a new list containing elements from the population while\n",
      "        leaving the original population unchanged.  The resulting list is\n",
      "        in selection order so that all sub-slices will also be valid random\n",
      "        samples.  This allows raffle winners (the sample) to be partitioned\n",
      "        into grand prize and second place winners (the subslices).\n",
      "        \n",
      "        Members of the population need not be hashable or unique.  If the\n",
      "        population contains repeats, then each occurrence is a possible\n",
      "        selection in the sample.\n",
      "        \n",
      "        To choose a sample in a range of integers, use range as an argument.\n",
      "        This is especially fast and space efficient for sampling from a\n",
      "        large population:   sample(range(10000000), 60)\n",
      "    \n",
      "    seed(a=None, version=2) method of Random instance\n",
      "        Initialize internal state from hashable object.\n",
      "        \n",
      "        None or no argument seeds from current time or from an operating\n",
      "        system specific randomness source if available.\n",
      "        \n",
      "        If *a* is an int, all bits are used.\n",
      "        \n",
      "        For version 2 (the default), all of the bits are used if *a* is a str,\n",
      "        bytes, or bytearray.  For version 1 (provided for reproducing random\n",
      "        sequences from older versions of Python), the algorithm for str and\n",
      "        bytes generates a narrower range of seeds.\n",
      "    \n",
      "    setstate(state) method of Random instance\n",
      "        Restore internal state from object returned by getstate().\n",
      "    \n",
      "    shuffle(x, random=None) method of Random instance\n",
      "        Shuffle list x in place, and return None.\n",
      "        \n",
      "        Optional argument random is a 0-argument function returning a\n",
      "        random float in [0.0, 1.0); if it is the default None, the\n",
      "        standard random.random will be used.\n",
      "    \n",
      "    triangular(low=0.0, high=1.0, mode=None) method of Random instance\n",
      "        Triangular distribution.\n",
      "        \n",
      "        Continuous distribution bounded by given lower and upper limits,\n",
      "        and having a given mode value in-between.\n",
      "        \n",
      "        http://en.wikipedia.org/wiki/Triangular_distribution\n",
      "    \n",
      "    uniform(a, b) method of Random instance\n",
      "        Get a random number in the range [a, b) or [a, b] depending on rounding.\n",
      "    \n",
      "    vonmisesvariate(mu, kappa) method of Random instance\n",
      "        Circular data distribution.\n",
      "        \n",
      "        mu is the mean angle, expressed in radians between 0 and 2*pi, and\n",
      "        kappa is the concentration parameter, which must be greater than or\n",
      "        equal to zero.  If kappa is equal to zero, this distribution reduces\n",
      "        to a uniform random angle over the range 0 to 2*pi.\n",
      "    \n",
      "    weibullvariate(alpha, beta) method of Random instance\n",
      "        Weibull distribution.\n",
      "        \n",
      "        alpha is the scale parameter and beta is the shape parameter.\n",
      "\n",
      "DATA\n",
      "    __all__ = ['Random', 'seed', 'random', 'uniform', 'randint', 'choice',...\n",
      "\n",
      "FILE\n",
      "    c:\\programdata\\anaconda3\\lib\\random.py\n",
      "\n",
      "\n"
     ]
    }
   ],
   "source": [
    "help(random)"
   ]
  },
  {
   "cell_type": "code",
   "execution_count": 27,
   "metadata": {},
   "outputs": [
    {
     "data": {
      "text/plain": [
       "True"
      ]
     },
     "execution_count": 27,
     "metadata": {},
     "output_type": "execute_result"
    }
   ],
   "source": [
    "import webbrowser\n",
    "webbrowser.open(\"http://www.youtube.com\",new=1)"
   ]
  },
  {
   "cell_type": "code",
   "execution_count": null,
   "metadata": {},
   "outputs": [],
   "source": [
    "webbrowser.get('internet explorer')"
   ]
  },
  {
   "cell_type": "markdown",
   "metadata": {},
   "source": [
    "# function"
   ]
  },
  {
   "cell_type": "code",
   "execution_count": 34,
   "metadata": {},
   "outputs": [],
   "source": [
    "def my():\n",
    "    print(\"Function are cool\")\n",
    "    \n",
    "def second():\n",
    "    print(\"This is second function\")"
   ]
  },
  {
   "cell_type": "code",
   "execution_count": 35,
   "metadata": {},
   "outputs": [
    {
     "name": "stdout",
     "output_type": "stream",
     "text": [
      "Function are cool\n",
      "This is second function\n"
     ]
    }
   ],
   "source": [
    "my()\n",
    "second()"
   ]
  },
  {
   "cell_type": "code",
   "execution_count": 38,
   "metadata": {},
   "outputs": [
    {
     "name": "stdout",
     "output_type": "stream",
     "text": [
      "Enter usd: 56\n",
      "4032\n"
     ]
    }
   ],
   "source": [
    "def convert_to_rs(dollar):\n",
    "    rs=dollar*72\n",
    "    print(rs)\n",
    "    \n",
    "dl=int(input(\"Enter usd: \"))\n",
    "\n",
    "convert_to_rs(dl)"
   ]
  },
  {
   "cell_type": "code",
   "execution_count": 40,
   "metadata": {},
   "outputs": [
    {
     "name": "stdout",
     "output_type": "stream",
     "text": [
      "Enter usd: 56\n",
      "enter rate: 65\n",
      "3640\n"
     ]
    }
   ],
   "source": [
    "def convert_to_rs(dollar,r):\n",
    "    rs=dollar*r\n",
    "    print(rs)\n",
    "    \n",
    "dl=int(input(\"Enter usd: \"))\n",
    "rate=int(input(\"enter rate: \"))\n",
    "\n",
    "convert_to_rs(dl,rate)"
   ]
  },
  {
   "cell_type": "code",
   "execution_count": 41,
   "metadata": {},
   "outputs": [
    {
     "name": "stdout",
     "output_type": "stream",
     "text": [
      "Enter usd: 5\n",
      "enter rate: 60\n",
      "300\n"
     ]
    }
   ],
   "source": [
    "def rup(d,r):\n",
    "    ru=d*r\n",
    "    return ru\n",
    "\n",
    "dl=int(input(\"Enter usd: \"))\n",
    "rate=int(input(\"enter rate: \"))\n",
    "\n",
    "convert_to_rs(dl,rate)\n"
   ]
  },
  {
   "cell_type": "code",
   "execution_count": 42,
   "metadata": {},
   "outputs": [
    {
     "name": "stdout",
     "output_type": "stream",
     "text": [
      "bucket\n"
     ]
    }
   ],
   "source": [
    "def pri(name=\"anshu\"):\n",
    "    print(name)\n",
    "    \n",
    "pri(\"bucket\")\n"
   ]
  },
  {
   "cell_type": "code",
   "execution_count": 43,
   "metadata": {},
   "outputs": [
    {
     "name": "stdout",
     "output_type": "stream",
     "text": [
      "anshu\n"
     ]
    }
   ],
   "source": [
    "pri()"
   ]
  },
  {
   "cell_type": "code",
   "execution_count": 44,
   "metadata": {},
   "outputs": [
    {
     "name": "stdout",
     "output_type": "stream",
     "text": [
      "anshu loves dogs\n"
     ]
    }
   ],
   "source": [
    "def faltu(name='anshu',action='loves',items='dogs'):\n",
    "    print(name,action,items)\n",
    "    \n",
    "faltu()"
   ]
  },
  {
   "cell_type": "code",
   "execution_count": 45,
   "metadata": {},
   "outputs": [
    {
     "name": "stdout",
     "output_type": "stream",
     "text": [
      "anshu fight dogs\n"
     ]
    }
   ],
   "source": [
    "faltu(action='fight')"
   ]
  },
  {
   "cell_type": "code",
   "execution_count": 53,
   "metadata": {},
   "outputs": [],
   "source": [
    "def total(* args):\n",
    "    print(args)\n",
    "    print(type(args))"
   ]
  },
  {
   "cell_type": "code",
   "execution_count": 54,
   "metadata": {},
   "outputs": [
    {
     "name": "stdout",
     "output_type": "stream",
     "text": [
      "(56,)\n",
      "<class 'tuple'>\n"
     ]
    }
   ],
   "source": [
    "total(56)"
   ]
  },
  {
   "cell_type": "code",
   "execution_count": 55,
   "metadata": {},
   "outputs": [
    {
     "name": "stdout",
     "output_type": "stream",
     "text": [
      "(55, 56, 57, 58, 59)\n",
      "<class 'tuple'>\n"
     ]
    }
   ],
   "source": [
    "total(55,56,57,58,59,)"
   ]
  },
  {
   "cell_type": "code",
   "execution_count": 65,
   "metadata": {},
   "outputs": [],
   "source": [
    "def t(*args):\n",
    "    sum=0\n",
    "    for number in args:\n",
    "        sum+=number\n",
    "    print(sum)"
   ]
  },
  {
   "cell_type": "code",
   "execution_count": 66,
   "metadata": {},
   "outputs": [
    {
     "name": "stdout",
     "output_type": "stream",
     "text": [
      "154\n",
      "None\n"
     ]
    }
   ],
   "source": [
    "print(t(67,87))"
   ]
  },
  {
   "cell_type": "code",
   "execution_count": 75,
   "metadata": {},
   "outputs": [
    {
     "name": "stdout",
     "output_type": "stream",
     "text": [
      "5\n",
      "5\n"
     ]
    }
   ],
   "source": [
    "y=10\n",
    "\n",
    "def value_of_x():\n",
    "    x=10\n",
    "    global y\n",
    "    y=5\n",
    "    print(y)\n",
    "    \n",
    "value_of_x()\n",
    "print(y)"
   ]
  },
  {
   "cell_type": "code",
   "execution_count": 77,
   "metadata": {},
   "outputs": [
    {
     "name": "stdout",
     "output_type": "stream",
     "text": [
      "0\n",
      "0\n"
     ]
    }
   ],
   "source": [
    "y=10\n",
    "\n",
    "def val():\n",
    "    x=10\n",
    "    def inner():\n",
    "        nonlocal x\n",
    "        x=0\n",
    "        print(x)\n",
    "    inner()\n",
    "    print(x)\n",
    "    \n",
    "val()\n"
   ]
  },
  {
   "cell_type": "code",
   "execution_count": 78,
   "metadata": {},
   "outputs": [
    {
     "name": "stdout",
     "output_type": "stream",
     "text": [
      "720\n"
     ]
    }
   ],
   "source": [
    "def fact(n):\n",
    "    factorial=1\n",
    "    for i in range(1,n+1):\n",
    "        factorial=factorial*i\n",
    "    return factorial\n",
    "\n",
    "print(fact(6))"
   ]
  },
  {
   "cell_type": "markdown",
   "metadata": {},
   "source": [
    "# OS"
   ]
  },
  {
   "cell_type": "code",
   "execution_count": 81,
   "metadata": {},
   "outputs": [],
   "source": [
    "import os"
   ]
  },
  {
   "cell_type": "code",
   "execution_count": 83,
   "metadata": {},
   "outputs": [
    {
     "name": "stdout",
     "output_type": "stream",
     "text": [
      "C:\\Users\\Mypc\\Desktop\\Newfolder1\n",
      "C:\\Users\\Mypc\\Desktop\\Newfolder2\n",
      "C:\\Users\\Mypc\\Desktop\\Newfolder3\n",
      "C:\\Users\\Mypc\\Desktop\\Newfolder4\n",
      "C:\\Users\\Mypc\\Desktop\\Newfolder5\n",
      "C:\\Users\\Mypc\\Desktop\\Newfolder6\n",
      "C:\\Users\\Mypc\\Desktop\\Newfolder7\n",
      "C:\\Users\\Mypc\\Desktop\\Newfolder8\n",
      "C:\\Users\\Mypc\\Desktop\\Newfolder9\n",
      "C:\\Users\\Mypc\\Desktop\\Newfolder10\n",
      "C:\\Users\\Mypc\\Desktop\\Newfolder11\n",
      "C:\\Users\\Mypc\\Desktop\\Newfolder12\n",
      "C:\\Users\\Mypc\\Desktop\\Newfolder13\n",
      "C:\\Users\\Mypc\\Desktop\\Newfolder14\n",
      "C:\\Users\\Mypc\\Desktop\\Newfolder15\n",
      "C:\\Users\\Mypc\\Desktop\\Newfolder16\n",
      "C:\\Users\\Mypc\\Desktop\\Newfolder17\n",
      "C:\\Users\\Mypc\\Desktop\\Newfolder18\n",
      "C:\\Users\\Mypc\\Desktop\\Newfolder19\n",
      "C:\\Users\\Mypc\\Desktop\\Newfolder20\n",
      "C:\\Users\\Mypc\\Desktop\\Newfolder21\n",
      "C:\\Users\\Mypc\\Desktop\\Newfolder22\n",
      "C:\\Users\\Mypc\\Desktop\\Newfolder23\n",
      "C:\\Users\\Mypc\\Desktop\\Newfolder24\n",
      "C:\\Users\\Mypc\\Desktop\\Newfolder25\n",
      "C:\\Users\\Mypc\\Desktop\\Newfolder26\n",
      "C:\\Users\\Mypc\\Desktop\\Newfolder27\n",
      "C:\\Users\\Mypc\\Desktop\\Newfolder28\n",
      "C:\\Users\\Mypc\\Desktop\\Newfolder29\n",
      "C:\\Users\\Mypc\\Desktop\\Newfolder30\n",
      "C:\\Users\\Mypc\\Desktop\\Newfolder31\n",
      "C:\\Users\\Mypc\\Desktop\\Newfolder32\n",
      "C:\\Users\\Mypc\\Desktop\\Newfolder33\n",
      "C:\\Users\\Mypc\\Desktop\\Newfolder34\n",
      "C:\\Users\\Mypc\\Desktop\\Newfolder35\n",
      "C:\\Users\\Mypc\\Desktop\\Newfolder36\n",
      "C:\\Users\\Mypc\\Desktop\\Newfolder37\n",
      "C:\\Users\\Mypc\\Desktop\\Newfolder38\n",
      "C:\\Users\\Mypc\\Desktop\\Newfolder39\n",
      "C:\\Users\\Mypc\\Desktop\\Newfolder40\n",
      "C:\\Users\\Mypc\\Desktop\\Newfolder41\n",
      "C:\\Users\\Mypc\\Desktop\\Newfolder42\n",
      "C:\\Users\\Mypc\\Desktop\\Newfolder43\n",
      "C:\\Users\\Mypc\\Desktop\\Newfolder44\n",
      "C:\\Users\\Mypc\\Desktop\\Newfolder45\n",
      "C:\\Users\\Mypc\\Desktop\\Newfolder46\n",
      "C:\\Users\\Mypc\\Desktop\\Newfolder47\n",
      "C:\\Users\\Mypc\\Desktop\\Newfolder48\n",
      "C:\\Users\\Mypc\\Desktop\\Newfolder49\n",
      "C:\\Users\\Mypc\\Desktop\\Newfolder50\n",
      "C:\\Users\\Mypc\\Desktop\\Newfolder51\n",
      "C:\\Users\\Mypc\\Desktop\\Newfolder52\n",
      "C:\\Users\\Mypc\\Desktop\\Newfolder53\n",
      "C:\\Users\\Mypc\\Desktop\\Newfolder54\n",
      "C:\\Users\\Mypc\\Desktop\\Newfolder55\n",
      "C:\\Users\\Mypc\\Desktop\\Newfolder56\n",
      "C:\\Users\\Mypc\\Desktop\\Newfolder57\n",
      "C:\\Users\\Mypc\\Desktop\\Newfolder58\n",
      "C:\\Users\\Mypc\\Desktop\\Newfolder59\n",
      "C:\\Users\\Mypc\\Desktop\\Newfolder60\n",
      "C:\\Users\\Mypc\\Desktop\\Newfolder61\n",
      "C:\\Users\\Mypc\\Desktop\\Newfolder62\n",
      "C:\\Users\\Mypc\\Desktop\\Newfolder63\n",
      "C:\\Users\\Mypc\\Desktop\\Newfolder64\n",
      "C:\\Users\\Mypc\\Desktop\\Newfolder65\n",
      "C:\\Users\\Mypc\\Desktop\\Newfolder66\n",
      "C:\\Users\\Mypc\\Desktop\\Newfolder67\n",
      "C:\\Users\\Mypc\\Desktop\\Newfolder68\n",
      "C:\\Users\\Mypc\\Desktop\\Newfolder69\n",
      "C:\\Users\\Mypc\\Desktop\\Newfolder70\n",
      "C:\\Users\\Mypc\\Desktop\\Newfolder71\n",
      "C:\\Users\\Mypc\\Desktop\\Newfolder72\n",
      "C:\\Users\\Mypc\\Desktop\\Newfolder73\n",
      "C:\\Users\\Mypc\\Desktop\\Newfolder74\n",
      "C:\\Users\\Mypc\\Desktop\\Newfolder75\n",
      "C:\\Users\\Mypc\\Desktop\\Newfolder76\n",
      "C:\\Users\\Mypc\\Desktop\\Newfolder77\n",
      "C:\\Users\\Mypc\\Desktop\\Newfolder78\n",
      "C:\\Users\\Mypc\\Desktop\\Newfolder79\n",
      "C:\\Users\\Mypc\\Desktop\\Newfolder80\n",
      "C:\\Users\\Mypc\\Desktop\\Newfolder81\n",
      "C:\\Users\\Mypc\\Desktop\\Newfolder82\n",
      "C:\\Users\\Mypc\\Desktop\\Newfolder83\n",
      "C:\\Users\\Mypc\\Desktop\\Newfolder84\n",
      "C:\\Users\\Mypc\\Desktop\\Newfolder85\n",
      "C:\\Users\\Mypc\\Desktop\\Newfolder86\n",
      "C:\\Users\\Mypc\\Desktop\\Newfolder87\n",
      "C:\\Users\\Mypc\\Desktop\\Newfolder88\n",
      "C:\\Users\\Mypc\\Desktop\\Newfolder89\n",
      "C:\\Users\\Mypc\\Desktop\\Newfolder90\n",
      "C:\\Users\\Mypc\\Desktop\\Newfolder91\n",
      "C:\\Users\\Mypc\\Desktop\\Newfolder92\n",
      "C:\\Users\\Mypc\\Desktop\\Newfolder93\n",
      "C:\\Users\\Mypc\\Desktop\\Newfolder94\n",
      "C:\\Users\\Mypc\\Desktop\\Newfolder95\n",
      "C:\\Users\\Mypc\\Desktop\\Newfolder96\n",
      "C:\\Users\\Mypc\\Desktop\\Newfolder97\n",
      "C:\\Users\\Mypc\\Desktop\\Newfolder98\n",
      "C:\\Users\\Mypc\\Desktop\\Newfolder99\n",
      "C:\\Users\\Mypc\\Desktop\\Newfolder100\n"
     ]
    }
   ],
   "source": [
    "for i in range(1,101):\n",
    "    p=\"C:\\\\Users\\\\Mypc\\\\Desktop\\\\New\"\n",
    "    f=\"folder\"+str(i)\n",
    "    print(p+f)\n",
    "    c='mkdir '+p+f\n",
    "    os.system(c)"
   ]
  },
  {
   "cell_type": "markdown",
   "metadata": {},
   "source": [
    "# Exception Handling"
   ]
  },
  {
   "cell_type": "code",
   "execution_count": 88,
   "metadata": {},
   "outputs": [
    {
     "name": "stdout",
     "output_type": "stream",
     "text": [
      "Enter Number: muje\n",
      "Please enter valid age\n"
     ]
    }
   ],
   "source": [
    "try:\n",
    "    age=int(input(\"Enter Number: \"))\n",
    "\n",
    "\n",
    "    if (age>=18):\n",
    "        print(\"You are old enough\")\n",
    "    else:\n",
    "        print(\"You cant vote\")\n",
    "    \n",
    "except:\n",
    "    print(\"Please enter valid age\")\n"
   ]
  },
  {
   "cell_type": "code",
   "execution_count": 90,
   "metadata": {},
   "outputs": [
    {
     "name": "stdout",
     "output_type": "stream",
     "text": [
      "d1: 1\n",
      "d2: 0\n",
      "Please don't enter 0 as denominator\n"
     ]
    }
   ],
   "source": [
    "try:\n",
    "    n1=int(input(\"d1: \"))\n",
    "    n2=int(input(\"d2: \"))\n",
    "\n",
    "    div=n1/n2\n",
    "    print(\"division: \",div)\n",
    "except ZeroDivisionError:\n",
    "    print(\"Please don't enter 0 as denominator\")"
   ]
  },
  {
   "cell_type": "code",
   "execution_count": null,
   "metadata": {},
   "outputs": [],
   "source": []
  }
 ],
 "metadata": {
  "kernelspec": {
   "display_name": "Python 3",
   "language": "python",
   "name": "python3"
  },
  "language_info": {
   "codemirror_mode": {
    "name": "ipython",
    "version": 3
   },
   "file_extension": ".py",
   "mimetype": "text/x-python",
   "name": "python",
   "nbconvert_exporter": "python",
   "pygments_lexer": "ipython3",
   "version": "3.8.5"
  }
 },
 "nbformat": 4,
 "nbformat_minor": 4
}
